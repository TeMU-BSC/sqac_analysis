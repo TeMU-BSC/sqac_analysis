{
 "cells": [
  {
   "cell_type": "code",
   "execution_count": 1,
   "metadata": {
    "tags": []
   },
   "outputs": [],
   "source": [
    "import pandas as pd\n",
    "import matplotlib.pyplot as plt\n",
    "import os\n",
    "import json\n",
    "import ast"
   ]
  },
  {
   "cell_type": "code",
   "execution_count": 2,
   "metadata": {
    "tags": []
   },
   "outputs": [],
   "source": [
    "stop = [\"a\", \"al\", \"ante\", \"bajo\", \"cabe\", \"con\", \"contra\", \"de\", \"del\", \"desde\", \"con\", \"contra\", \"en\", \"entre\", \"hacia\", \"hasta\", \"para\", \"por\", \"según\", \"sin\", \"so\", \"sobre\", \"tras\", \"el\", \"la\", \"los\", \"las\"]\n",
    "def remove_stop(answer):\n",
    "    for item in stop:\n",
    "        r = answer.lower().find(item + \" \")\n",
    "        if r == 0:\n",
    "            answer = answer[len(item)+1:]\n",
    "    return answer\n",
    "            "
   ]
  },
  {
   "cell_type": "code",
   "execution_count": 3,
   "metadata": {
    "tags": []
   },
   "outputs": [],
   "source": [
    "def save_file(df, my_file):\n",
    "    x = open(my_file, \"w\")\n",
    "    df.to_csv(my_file, sep='\\t')\n",
    "    x.close()\n",
    "    print(\"Hem generat el fitxer\", my_file)"
   ]
  },
  {
   "cell_type": "code",
   "execution_count": 4,
   "metadata": {
    "tags": []
   },
   "outputs": [],
   "source": [
    "directoryPath = \"./sqac/\"\n",
    "filename = \"test.json\"\n",
    "js = json.load(open(directoryPath + filename, encoding='utf-8'))\n",
    "text_complet = js['data']\n",
    "\n",
    "column_names = [\"source\", \"id\", \"question\", \"answer\", \"answer_no_stop\", \"answer_start\"]\n",
    "df = pd.DataFrame(columns = column_names)  \n",
    "for paragraph in text_complet:\n",
    "    source = paragraph[\"source\"]\n",
    "    for context in text_complet[text_complet.index(paragraph)]['paragraphs']:\n",
    "            a =  context['qas']    \n",
    "            for element in a:\n",
    "                question = element[\"question\"]\n",
    "                id = element['id']\n",
    "                answers = element['answers'] \n",
    "                for ans in answers:\n",
    "                    answer = ans['text']\n",
    "                    answer_no_stop = remove_stop(answer)                   \n",
    "                    thestart = ans[\"answer_start\"]\n",
    "      \n",
    "                    df.loc[len(df.index)] = [source, id, question, answer, answer_no_stop, thestart] "
   ]
  },
  {
   "cell_type": "markdown",
   "metadata": {},
   "source": [
    "# Dataset"
   ]
  },
  {
   "cell_type": "code",
   "execution_count": 5,
   "metadata": {
    "tags": []
   },
   "outputs": [
    {
     "data": {
      "text/html": [
       "<div>\n",
       "<style scoped>\n",
       "    .dataframe tbody tr th:only-of-type {\n",
       "        vertical-align: middle;\n",
       "    }\n",
       "\n",
       "    .dataframe tbody tr th {\n",
       "        vertical-align: top;\n",
       "    }\n",
       "\n",
       "    .dataframe thead th {\n",
       "        text-align: right;\n",
       "    }\n",
       "</style>\n",
       "<table border=\"1\" class=\"dataframe\">\n",
       "  <thead>\n",
       "    <tr style=\"text-align: right;\">\n",
       "      <th></th>\n",
       "      <th>source</th>\n",
       "      <th>id</th>\n",
       "      <th>question</th>\n",
       "      <th>answer</th>\n",
       "      <th>answer_no_stop</th>\n",
       "      <th>answer_start</th>\n",
       "    </tr>\n",
       "  </thead>\n",
       "  <tbody>\n",
       "    <tr>\n",
       "      <th>0</th>\n",
       "      <td>wikipedia</td>\n",
       "      <td>56ea5a6b-c494-43fb-8af9-f084e1b3ff11</td>\n",
       "      <td>¿Cuál es el nombre que se le da a la unidad mo...</td>\n",
       "      <td>célula</td>\n",
       "      <td>célula</td>\n",
       "      <td>3</td>\n",
       "    </tr>\n",
       "    <tr>\n",
       "      <th>1</th>\n",
       "      <td>wikipedia</td>\n",
       "      <td>82ff0c00-c4a6-4677-af88-b9a05cce3b3f</td>\n",
       "      <td>¿De dónde proviene el término \"célula\")</td>\n",
       "      <td>del latín cellula, diminutivo de cella, ‘celda’</td>\n",
       "      <td>latín cellula, diminutivo de cella, ‘celda’</td>\n",
       "      <td>11</td>\n",
       "    </tr>\n",
       "    <tr>\n",
       "      <th>2</th>\n",
       "      <td>wikipedia</td>\n",
       "      <td>7080811e-67c4-472f-94ce-afa1b69fb4a1</td>\n",
       "      <td>¿Cómo se denominan a los seres vivos con una ú...</td>\n",
       "      <td>unicelulares</td>\n",
       "      <td>unicelulares</td>\n",
       "      <td>328</td>\n",
       "    </tr>\n",
       "    <tr>\n",
       "      <th>3</th>\n",
       "      <td>wikipedia</td>\n",
       "      <td>8c5ab52a-3306-4389-ab5c-b5a394fbf77b</td>\n",
       "      <td>¿Dónde se encuentra el material genético en la...</td>\n",
       "      <td>el núcleo</td>\n",
       "      <td>núcleo</td>\n",
       "      <td>274</td>\n",
       "    </tr>\n",
       "    <tr>\n",
       "      <th>4</th>\n",
       "      <td>wikipedia</td>\n",
       "      <td>cb1d5d94-ae86-4167-a8df-1de5a8a83038</td>\n",
       "      <td>¿Cómo se llaman las células que necesitan las ...</td>\n",
       "      <td>gliales</td>\n",
       "      <td>gliales</td>\n",
       "      <td>640</td>\n",
       "    </tr>\n",
       "    <tr>\n",
       "      <th>...</th>\n",
       "      <td>...</td>\n",
       "      <td>...</td>\n",
       "      <td>...</td>\n",
       "      <td>...</td>\n",
       "      <td>...</td>\n",
       "      <td>...</td>\n",
       "    </tr>\n",
       "    <tr>\n",
       "      <th>1905</th>\n",
       "      <td>wikinews</td>\n",
       "      <td>58e72dc4-5c2a-444d-9d45-3db47f74b087</td>\n",
       "      <td>¿Cómo marcó gol Higuaín?</td>\n",
       "      <td>de volea</td>\n",
       "      <td>volea</td>\n",
       "      <td>449</td>\n",
       "    </tr>\n",
       "    <tr>\n",
       "      <th>1906</th>\n",
       "      <td>wikinews</td>\n",
       "      <td>726eaa9b-b8b9-4646-8612-fe76cf008b08</td>\n",
       "      <td>¿Cuál es el próximo contrincante de Argentina?</td>\n",
       "      <td>los Países Bajos</td>\n",
       "      <td>Países Bajos</td>\n",
       "      <td>1592</td>\n",
       "    </tr>\n",
       "    <tr>\n",
       "      <th>1907</th>\n",
       "      <td>wikinews</td>\n",
       "      <td>eb8e7345-8168-4b09-bc95-6607a32de1c2</td>\n",
       "      <td>¿Quién se ha impuesto en las elecciones para l...</td>\n",
       "      <td>El candidato pro-ruso Victor Yanukovich</td>\n",
       "      <td>candidato pro-ruso Victor Yanukovich</td>\n",
       "      <td>21</td>\n",
       "    </tr>\n",
       "    <tr>\n",
       "      <th>1908</th>\n",
       "      <td>wikinews</td>\n",
       "      <td>2dc32963-7057-465c-9c4f-edcef5525f2e</td>\n",
       "      <td>¿Qué porcentaje de apoyo ha logrado Yanukovich...</td>\n",
       "      <td>48,49%</td>\n",
       "      <td>48,49%</td>\n",
       "      <td>208</td>\n",
       "    </tr>\n",
       "    <tr>\n",
       "      <th>1909</th>\n",
       "      <td>wikinews</td>\n",
       "      <td>608e696e-4148-490f-9f49-d880667a3be0</td>\n",
       "      <td>¿Cómo reaccionó la jefa del Estado ante su fra...</td>\n",
       "      <td>no hizo ningún tipo de declaraciones</td>\n",
       "      <td>no hizo ningún tipo de declaraciones</td>\n",
       "      <td>1281</td>\n",
       "    </tr>\n",
       "  </tbody>\n",
       "</table>\n",
       "<p>1910 rows × 6 columns</p>\n",
       "</div>"
      ],
      "text/plain": [
       "         source                                    id  \\\n",
       "0     wikipedia  56ea5a6b-c494-43fb-8af9-f084e1b3ff11   \n",
       "1     wikipedia  82ff0c00-c4a6-4677-af88-b9a05cce3b3f   \n",
       "2     wikipedia  7080811e-67c4-472f-94ce-afa1b69fb4a1   \n",
       "3     wikipedia  8c5ab52a-3306-4389-ab5c-b5a394fbf77b   \n",
       "4     wikipedia  cb1d5d94-ae86-4167-a8df-1de5a8a83038   \n",
       "...         ...                                   ...   \n",
       "1905   wikinews  58e72dc4-5c2a-444d-9d45-3db47f74b087   \n",
       "1906   wikinews  726eaa9b-b8b9-4646-8612-fe76cf008b08   \n",
       "1907   wikinews  eb8e7345-8168-4b09-bc95-6607a32de1c2   \n",
       "1908   wikinews  2dc32963-7057-465c-9c4f-edcef5525f2e   \n",
       "1909   wikinews  608e696e-4148-490f-9f49-d880667a3be0   \n",
       "\n",
       "                                               question  \\\n",
       "0     ¿Cuál es el nombre que se le da a la unidad mo...   \n",
       "1               ¿De dónde proviene el término \"célula\")   \n",
       "2     ¿Cómo se denominan a los seres vivos con una ú...   \n",
       "3     ¿Dónde se encuentra el material genético en la...   \n",
       "4     ¿Cómo se llaman las células que necesitan las ...   \n",
       "...                                                 ...   \n",
       "1905                           ¿Cómo marcó gol Higuaín?   \n",
       "1906     ¿Cuál es el próximo contrincante de Argentina?   \n",
       "1907  ¿Quién se ha impuesto en las elecciones para l...   \n",
       "1908  ¿Qué porcentaje de apoyo ha logrado Yanukovich...   \n",
       "1909  ¿Cómo reaccionó la jefa del Estado ante su fra...   \n",
       "\n",
       "                                               answer  \\\n",
       "0                                              célula   \n",
       "1     del latín cellula, diminutivo de cella, ‘celda’   \n",
       "2                                        unicelulares   \n",
       "3                                           el núcleo   \n",
       "4                                             gliales   \n",
       "...                                               ...   \n",
       "1905                                         de volea   \n",
       "1906                                 los Países Bajos   \n",
       "1907          El candidato pro-ruso Victor Yanukovich   \n",
       "1908                                           48,49%   \n",
       "1909             no hizo ningún tipo de declaraciones   \n",
       "\n",
       "                                   answer_no_stop answer_start  \n",
       "0                                          célula            3  \n",
       "1     latín cellula, diminutivo de cella, ‘celda’           11  \n",
       "2                                    unicelulares          328  \n",
       "3                                          núcleo          274  \n",
       "4                                         gliales          640  \n",
       "...                                           ...          ...  \n",
       "1905                                        volea          449  \n",
       "1906                                 Países Bajos         1592  \n",
       "1907         candidato pro-ruso Victor Yanukovich           21  \n",
       "1908                                       48,49%          208  \n",
       "1909         no hizo ningún tipo de declaraciones         1281  \n",
       "\n",
       "[1910 rows x 6 columns]"
      ]
     },
     "execution_count": 5,
     "metadata": {},
     "output_type": "execute_result"
    }
   ],
   "source": [
    "df"
   ]
  },
  {
   "cell_type": "markdown",
   "metadata": {},
   "source": [
    "# Respuestas del dataset + modelos"
   ]
  },
  {
   "cell_type": "code",
   "execution_count": 6,
   "metadata": {
    "tags": []
   },
   "outputs": [
    {
     "name": "stdout",
     "output_type": "stream",
     "text": [
      "afegint resultats bne_base_new.json\n",
      "afegint resultats mbert.json\n",
      "afegint resultats beto.json\n"
     ]
    }
   ],
   "source": [
    "ans_column = [\"answer\"]\n",
    "match_column = []\n",
    "models = []\n",
    "\n",
    "for filename in os.listdir(directoryPath):\n",
    "    if filename[-4:] == \"json\" and filename != \"test.json\":\n",
    "        print(\"afegint resultats\", filename)\n",
    "        file = open(directoryPath+filename, \"r\")\n",
    "        dic = ast.literal_eval(file.read())\n",
    "        model = filename[:-5]\n",
    "        models.append(model)\n",
    "        \n",
    "        column_name = \"answers_\" + model\n",
    "        ans_column.append(column_name)\n",
    "        df[column_name] = \"\"\n",
    "        \n",
    "        no_stop = \"no_stop_\" + model\n",
    "        df[no_stop] = \"\"\n",
    "        \n",
    "        match = \"match_\" + model\n",
    "        df[match] = \"no_match\"\n",
    "        match_column.append(match)\n",
    "        \n",
    "        for i, key in enumerate(dic):\n",
    "            if key != df.loc[i, \"id\"]:\n",
    "                print(\"error\", filename, key)\n",
    "                \n",
    "            df.loc[i, column_name] = dic[key]\n",
    "            no_stop_answer = remove_stop(dic[key])\n",
    "            df.loc[i, no_stop] = no_stop_answer\n",
    "            if dic[key] == df.loc[i, \"answer\"]:\n",
    "                df.loc[i, match] = \"exact\"\n",
    "            elif no_stop_answer == df.loc[i, \"answer_no_stop\"]:\n",
    "                df.loc[i, match] = \"no_stop\"\n",
    "            else:\n",
    "                r = dic[key].find(df.loc[i, \"answer\"])\n",
    "                s = df.loc[i, \"answer\"].find(dic[key])\n",
    "                if r != -1 or s != -1:\n",
    "                    df.loc[i, match] = \"contains\"\n",
    "                    "
   ]
  },
  {
   "cell_type": "code",
   "execution_count": 7,
   "metadata": {
    "tags": []
   },
   "outputs": [
    {
     "data": {
      "text/html": [
       "<div>\n",
       "<style scoped>\n",
       "    .dataframe tbody tr th:only-of-type {\n",
       "        vertical-align: middle;\n",
       "    }\n",
       "\n",
       "    .dataframe tbody tr th {\n",
       "        vertical-align: top;\n",
       "    }\n",
       "\n",
       "    .dataframe thead th {\n",
       "        text-align: right;\n",
       "    }\n",
       "</style>\n",
       "<table border=\"1\" class=\"dataframe\">\n",
       "  <thead>\n",
       "    <tr style=\"text-align: right;\">\n",
       "      <th></th>\n",
       "      <th>answer</th>\n",
       "      <th>answers_bne_base_new</th>\n",
       "      <th>answers_mbert</th>\n",
       "      <th>answers_beto</th>\n",
       "    </tr>\n",
       "  </thead>\n",
       "  <tbody>\n",
       "    <tr>\n",
       "      <th>0</th>\n",
       "      <td>célula</td>\n",
       "      <td>La célula</td>\n",
       "      <td>La célula</td>\n",
       "      <td>La célula</td>\n",
       "    </tr>\n",
       "    <tr>\n",
       "      <th>1</th>\n",
       "      <td>del latín cellula, diminutivo de cella, ‘celda’</td>\n",
       "      <td>del latín cellula</td>\n",
       "      <td>del latín cellula</td>\n",
       "      <td>del latín cellula</td>\n",
       "    </tr>\n",
       "    <tr>\n",
       "      <th>2</th>\n",
       "      <td>unicelulares</td>\n",
       "      <td>unicelulares</td>\n",
       "      <td>unicelulares</td>\n",
       "      <td>unicelulares</td>\n",
       "    </tr>\n",
       "    <tr>\n",
       "      <th>3</th>\n",
       "      <td>el núcleo</td>\n",
       "      <td>el núcleo</td>\n",
       "      <td>el núcleo</td>\n",
       "      <td>el núcleo</td>\n",
       "    </tr>\n",
       "    <tr>\n",
       "      <th>4</th>\n",
       "      <td>gliales</td>\n",
       "      <td>células gliales</td>\n",
       "      <td>las células gliales</td>\n",
       "      <td>células gliales</td>\n",
       "    </tr>\n",
       "    <tr>\n",
       "      <th>...</th>\n",
       "      <td>...</td>\n",
       "      <td>...</td>\n",
       "      <td>...</td>\n",
       "      <td>...</td>\n",
       "    </tr>\n",
       "    <tr>\n",
       "      <th>1905</th>\n",
       "      <td>de volea</td>\n",
       "      <td>de volea</td>\n",
       "      <td>remató de volea</td>\n",
       "      <td>remató de volea un balón que había rebotado en...</td>\n",
       "    </tr>\n",
       "    <tr>\n",
       "      <th>1906</th>\n",
       "      <td>los Países Bajos</td>\n",
       "      <td>Países Bajos</td>\n",
       "      <td>Bélgica</td>\n",
       "      <td>Bélgica</td>\n",
       "    </tr>\n",
       "    <tr>\n",
       "      <th>1907</th>\n",
       "      <td>El candidato pro-ruso Victor Yanukovich</td>\n",
       "      <td>El candidato pro-ruso Victor Yanukovich</td>\n",
       "      <td>El candidato pro-ruso Victor Yanukovich</td>\n",
       "      <td>El candidato pro-ruso Victor Yanukovich derrot...</td>\n",
       "    </tr>\n",
       "    <tr>\n",
       "      <th>1908</th>\n",
       "      <td>48,49%</td>\n",
       "      <td>el 48,49%</td>\n",
       "      <td>el 48,49% de los votos, mientras que su rival ...</td>\n",
       "      <td>el 48,49%</td>\n",
       "    </tr>\n",
       "    <tr>\n",
       "      <th>1909</th>\n",
       "      <td>no hizo ningún tipo de declaraciones</td>\n",
       "      <td>la primera ministra Yulia Timoshenko</td>\n",
       "      <td>2010</td>\n",
       "      <td>fue dura</td>\n",
       "    </tr>\n",
       "  </tbody>\n",
       "</table>\n",
       "<p>1910 rows × 4 columns</p>\n",
       "</div>"
      ],
      "text/plain": [
       "                                               answer  \\\n",
       "0                                              célula   \n",
       "1     del latín cellula, diminutivo de cella, ‘celda’   \n",
       "2                                        unicelulares   \n",
       "3                                           el núcleo   \n",
       "4                                             gliales   \n",
       "...                                               ...   \n",
       "1905                                         de volea   \n",
       "1906                                 los Países Bajos   \n",
       "1907          El candidato pro-ruso Victor Yanukovich   \n",
       "1908                                           48,49%   \n",
       "1909             no hizo ningún tipo de declaraciones   \n",
       "\n",
       "                         answers_bne_base_new  \\\n",
       "0                                   La célula   \n",
       "1                           del latín cellula   \n",
       "2                                unicelulares   \n",
       "3                                   el núcleo   \n",
       "4                             células gliales   \n",
       "...                                       ...   \n",
       "1905                                 de volea   \n",
       "1906                             Países Bajos   \n",
       "1907  El candidato pro-ruso Victor Yanukovich   \n",
       "1908                                el 48,49%   \n",
       "1909     la primera ministra Yulia Timoshenko   \n",
       "\n",
       "                                          answers_mbert  \\\n",
       "0                                             La célula   \n",
       "1                                     del latín cellula   \n",
       "2                                          unicelulares   \n",
       "3                                             el núcleo   \n",
       "4                                   las células gliales   \n",
       "...                                                 ...   \n",
       "1905                                    remató de volea   \n",
       "1906                                            Bélgica   \n",
       "1907            El candidato pro-ruso Victor Yanukovich   \n",
       "1908  el 48,49% de los votos, mientras que su rival ...   \n",
       "1909                                               2010   \n",
       "\n",
       "                                           answers_beto  \n",
       "0                                             La célula  \n",
       "1                                     del latín cellula  \n",
       "2                                          unicelulares  \n",
       "3                                             el núcleo  \n",
       "4                                       células gliales  \n",
       "...                                                 ...  \n",
       "1905  remató de volea un balón que había rebotado en...  \n",
       "1906                                            Bélgica  \n",
       "1907  El candidato pro-ruso Victor Yanukovich derrot...  \n",
       "1908                                          el 48,49%  \n",
       "1909                                           fue dura  \n",
       "\n",
       "[1910 rows x 4 columns]"
      ]
     },
     "execution_count": 7,
     "metadata": {},
     "output_type": "execute_result"
    }
   ],
   "source": [
    "df[ans_column]"
   ]
  },
  {
   "cell_type": "markdown",
   "metadata": {
    "tags": []
   },
   "source": [
    "# Comparativa de los resultados de los modelos\n",
    "* exact: la respuesta es exactamente igual a la del dataset. \n",
    "* no stop: la respuesta es igual si no se consideran los primeros stopword. Ej: _célula_ vs _la célula_\n",
    "* contains: la respuesta del modelo contiene la respuesta del datset, o a la inversa. Ej _del latín cellula_ vs _del latín cellula, diminutivo de cella, ‘celda’_ \n",
    "* no: no hay ninguna coincidencia en las respuestas. Ej. _los Países Bajos_ vs _Bélgica_"
   ]
  },
  {
   "cell_type": "code",
   "execution_count": 8,
   "metadata": {
    "tags": []
   },
   "outputs": [],
   "source": [
    "def create_df_match(dataframe):\n",
    "    sort_of_match = [\"exact\", \"no_stop\", \"contains\", \"no_match\"]\n",
    "    df_match = pd.DataFrame(columns = sort_of_match) \n",
    "    dic = {}\n",
    "    for match_model in match_column:\n",
    "      #  print(match_model)\n",
    "      #  print(dataframe[match_model].value_counts())\n",
    "        values_list = dataframe[match_model].values.tolist()\n",
    "        values_counts = []\n",
    "        for som in sort_of_match:\n",
    "            values_counts.append(round(values_list.count(som)/len(values_list), 2))\n",
    "        dic[len(df_match.index)] = match_model\n",
    "        df_match.loc[match_model] = values_counts\n",
    "        \n",
    "    return df_match\n",
    "    "
   ]
  },
  {
   "cell_type": "code",
   "execution_count": 9,
   "metadata": {
    "jupyter": {
     "source_hidden": true
    },
    "tags": []
   },
   "outputs": [],
   "source": [
    "df_match = create_df_match(df)"
   ]
  },
  {
   "cell_type": "code",
   "execution_count": 10,
   "metadata": {
    "jupyter": {
     "source_hidden": true
    },
    "tags": []
   },
   "outputs": [
    {
     "data": {
      "text/html": [
       "<div>\n",
       "<style scoped>\n",
       "    .dataframe tbody tr th:only-of-type {\n",
       "        vertical-align: middle;\n",
       "    }\n",
       "\n",
       "    .dataframe tbody tr th {\n",
       "        vertical-align: top;\n",
       "    }\n",
       "\n",
       "    .dataframe thead th {\n",
       "        text-align: right;\n",
       "    }\n",
       "</style>\n",
       "<table border=\"1\" class=\"dataframe\">\n",
       "  <thead>\n",
       "    <tr style=\"text-align: right;\">\n",
       "      <th></th>\n",
       "      <th>exact</th>\n",
       "      <th>no_stop</th>\n",
       "      <th>contains</th>\n",
       "      <th>no_match</th>\n",
       "    </tr>\n",
       "  </thead>\n",
       "  <tbody>\n",
       "    <tr>\n",
       "      <th>match_bne_base_new</th>\n",
       "      <td>0.58</td>\n",
       "      <td>0.07</td>\n",
       "      <td>0.20</td>\n",
       "      <td>0.15</td>\n",
       "    </tr>\n",
       "    <tr>\n",
       "      <th>match_mbert</th>\n",
       "      <td>0.57</td>\n",
       "      <td>0.06</td>\n",
       "      <td>0.20</td>\n",
       "      <td>0.17</td>\n",
       "    </tr>\n",
       "    <tr>\n",
       "      <th>match_beto</th>\n",
       "      <td>0.60</td>\n",
       "      <td>0.06</td>\n",
       "      <td>0.18</td>\n",
       "      <td>0.15</td>\n",
       "    </tr>\n",
       "  </tbody>\n",
       "</table>\n",
       "</div>"
      ],
      "text/plain": [
       "                    exact  no_stop  contains  no_match\n",
       "match_bne_base_new   0.58     0.07      0.20      0.15\n",
       "match_mbert          0.57     0.06      0.20      0.17\n",
       "match_beto           0.60     0.06      0.18      0.15"
      ]
     },
     "execution_count": 10,
     "metadata": {},
     "output_type": "execute_result"
    }
   ],
   "source": [
    "df_match"
   ]
  },
  {
   "cell_type": "code",
   "execution_count": 11,
   "metadata": {
    "jupyter": {
     "source_hidden": true
    },
    "tags": []
   },
   "outputs": [
    {
     "data": {
      "text/plain": [
       "<AxesSubplot:>"
      ]
     },
     "execution_count": 11,
     "metadata": {},
     "output_type": "execute_result"
    },
    {
     "data": {
      "image/png": "[encoded data removed]",
      "text/plain": [
       "<Figure size 432x288 with 1 Axes>"
      ]
     },
     "metadata": {
      "needs_background": "light"
     },
     "output_type": "display_data"
    }
   ],
   "source": [
    "df_match.plot.bar(stacked=True)"
   ]
  },
  {
   "cell_type": "markdown",
   "metadata": {},
   "source": [
    "## Resultados por modelo según fuente"
   ]
  },
  {
   "cell_type": "code",
   "execution_count": 12,
   "metadata": {
    "jupyter": {
     "source_hidden": true
    },
    "tags": []
   },
   "outputs": [],
   "source": [
    "def results_by_source(match_model):\n",
    "    sort_of_match = [\"exact\", \"no_stop\", \"contains\", \"no_match\"]\n",
    "    sources = [\"wikipedia\", \"ancora\", \"wikinews\"]\n",
    "    df_match = pd.DataFrame(columns = sort_of_match) \n",
    "    for source in sources:\n",
    "        values_list = df[df['source']==source][match_model].values.tolist()\n",
    "        values_counts = []\n",
    "        for som in sort_of_match:\n",
    "            values_counts.append(round(values_list.count(som)/len(values_list),2))\n",
    "        df_match.loc[source] = values_counts\n",
    "    return df_match\n",
    "    "
   ]
  },
  {
   "cell_type": "markdown",
   "metadata": {},
   "source": [
    "## bne_base_new"
   ]
  },
  {
   "cell_type": "code",
   "execution_count": 13,
   "metadata": {
    "jupyter": {
     "source_hidden": true
    },
    "tags": []
   },
   "outputs": [
    {
     "data": {
      "text/html": [
       "<div>\n",
       "<style scoped>\n",
       "    .dataframe tbody tr th:only-of-type {\n",
       "        vertical-align: middle;\n",
       "    }\n",
       "\n",
       "    .dataframe tbody tr th {\n",
       "        vertical-align: top;\n",
       "    }\n",
       "\n",
       "    .dataframe thead th {\n",
       "        text-align: right;\n",
       "    }\n",
       "</style>\n",
       "<table border=\"1\" class=\"dataframe\">\n",
       "  <thead>\n",
       "    <tr style=\"text-align: right;\">\n",
       "      <th></th>\n",
       "      <th>exact</th>\n",
       "      <th>no_stop</th>\n",
       "      <th>contains</th>\n",
       "      <th>no_match</th>\n",
       "    </tr>\n",
       "  </thead>\n",
       "  <tbody>\n",
       "    <tr>\n",
       "      <th>wikipedia</th>\n",
       "      <td>0.54</td>\n",
       "      <td>0.06</td>\n",
       "      <td>0.25</td>\n",
       "      <td>0.15</td>\n",
       "    </tr>\n",
       "    <tr>\n",
       "      <th>ancora</th>\n",
       "      <td>0.61</td>\n",
       "      <td>0.09</td>\n",
       "      <td>0.16</td>\n",
       "      <td>0.15</td>\n",
       "    </tr>\n",
       "    <tr>\n",
       "      <th>wikinews</th>\n",
       "      <td>0.62</td>\n",
       "      <td>0.06</td>\n",
       "      <td>0.16</td>\n",
       "      <td>0.16</td>\n",
       "    </tr>\n",
       "  </tbody>\n",
       "</table>\n",
       "</div>"
      ],
      "text/plain": [
       "           exact  no_stop  contains  no_match\n",
       "wikipedia   0.54     0.06      0.25      0.15\n",
       "ancora      0.61     0.09      0.16      0.15\n",
       "wikinews    0.62     0.06      0.16      0.16"
      ]
     },
     "execution_count": 13,
     "metadata": {},
     "output_type": "execute_result"
    }
   ],
   "source": [
    "results_by_source(\"match_bne_base_new\")"
   ]
  },
  {
   "cell_type": "code",
   "execution_count": 14,
   "metadata": {
    "jupyter": {
     "source_hidden": true
    },
    "tags": []
   },
   "outputs": [
    {
     "data": {
      "text/plain": [
       "<AxesSubplot:>"
      ]
     },
     "execution_count": 14,
     "metadata": {},
     "output_type": "execute_result"
    },
    {
     "data": {
      "image/png": "[encoded data removed]",
      "text/plain": [
       "<Figure size 432x288 with 1 Axes>"
      ]
     },
     "metadata": {
      "needs_background": "light"
     },
     "output_type": "display_data"
    }
   ],
   "source": [
    "results_by_source(\"match_bne_base_new\").plot.bar(stacked=True)"
   ]
  },
  {
   "cell_type": "markdown",
   "metadata": {},
   "source": [
    "## mbert"
   ]
  },
  {
   "cell_type": "code",
   "execution_count": 15,
   "metadata": {
    "jupyter": {
     "source_hidden": true
    },
    "tags": []
   },
   "outputs": [
    {
     "data": {
      "text/html": [
       "<div>\n",
       "<style scoped>\n",
       "    .dataframe tbody tr th:only-of-type {\n",
       "        vertical-align: middle;\n",
       "    }\n",
       "\n",
       "    .dataframe tbody tr th {\n",
       "        vertical-align: top;\n",
       "    }\n",
       "\n",
       "    .dataframe thead th {\n",
       "        text-align: right;\n",
       "    }\n",
       "</style>\n",
       "<table border=\"1\" class=\"dataframe\">\n",
       "  <thead>\n",
       "    <tr style=\"text-align: right;\">\n",
       "      <th></th>\n",
       "      <th>exact</th>\n",
       "      <th>no_stop</th>\n",
       "      <th>contains</th>\n",
       "      <th>no_match</th>\n",
       "    </tr>\n",
       "  </thead>\n",
       "  <tbody>\n",
       "    <tr>\n",
       "      <th>wikipedia</th>\n",
       "      <td>0.56</td>\n",
       "      <td>0.06</td>\n",
       "      <td>0.21</td>\n",
       "      <td>0.17</td>\n",
       "    </tr>\n",
       "    <tr>\n",
       "      <th>ancora</th>\n",
       "      <td>0.59</td>\n",
       "      <td>0.07</td>\n",
       "      <td>0.17</td>\n",
       "      <td>0.17</td>\n",
       "    </tr>\n",
       "    <tr>\n",
       "      <th>wikinews</th>\n",
       "      <td>0.57</td>\n",
       "      <td>0.05</td>\n",
       "      <td>0.20</td>\n",
       "      <td>0.18</td>\n",
       "    </tr>\n",
       "  </tbody>\n",
       "</table>\n",
       "</div>"
      ],
      "text/plain": [
       "           exact  no_stop  contains  no_match\n",
       "wikipedia   0.56     0.06      0.21      0.17\n",
       "ancora      0.59     0.07      0.17      0.17\n",
       "wikinews    0.57     0.05      0.20      0.18"
      ]
     },
     "execution_count": 15,
     "metadata": {},
     "output_type": "execute_result"
    }
   ],
   "source": [
    "results_by_source(\"match_mbert\")"
   ]
  },
  {
   "cell_type": "code",
   "execution_count": 16,
   "metadata": {
    "jupyter": {
     "source_hidden": true
    },
    "tags": []
   },
   "outputs": [
    {
     "data": {
      "text/plain": [
       "<AxesSubplot:>"
      ]
     },
     "execution_count": 16,
     "metadata": {},
     "output_type": "execute_result"
    },
    {
     "data": {
      "image/png": "[encoded data removed]",
      "text/plain": [
       "<Figure size 432x288 with 1 Axes>"
      ]
     },
     "metadata": {
      "needs_background": "light"
     },
     "output_type": "display_data"
    }
   ],
   "source": [
    "results_by_source(\"match_mbert\").plot.bar(stacked=True)"
   ]
  },
  {
   "cell_type": "markdown",
   "metadata": {},
   "source": [
    "## beto"
   ]
  },
  {
   "cell_type": "code",
   "execution_count": 17,
   "metadata": {
    "jupyter": {
     "source_hidden": true
    },
    "tags": []
   },
   "outputs": [
    {
     "data": {
      "text/html": [
       "<div>\n",
       "<style scoped>\n",
       "    .dataframe tbody tr th:only-of-type {\n",
       "        vertical-align: middle;\n",
       "    }\n",
       "\n",
       "    .dataframe tbody tr th {\n",
       "        vertical-align: top;\n",
       "    }\n",
       "\n",
       "    .dataframe thead th {\n",
       "        text-align: right;\n",
       "    }\n",
       "</style>\n",
       "<table border=\"1\" class=\"dataframe\">\n",
       "  <thead>\n",
       "    <tr style=\"text-align: right;\">\n",
       "      <th></th>\n",
       "      <th>exact</th>\n",
       "      <th>no_stop</th>\n",
       "      <th>contains</th>\n",
       "      <th>no_match</th>\n",
       "    </tr>\n",
       "  </thead>\n",
       "  <tbody>\n",
       "    <tr>\n",
       "      <th>wikipedia</th>\n",
       "      <td>0.57</td>\n",
       "      <td>0.06</td>\n",
       "      <td>0.21</td>\n",
       "      <td>0.15</td>\n",
       "    </tr>\n",
       "    <tr>\n",
       "      <th>ancora</th>\n",
       "      <td>0.63</td>\n",
       "      <td>0.06</td>\n",
       "      <td>0.17</td>\n",
       "      <td>0.14</td>\n",
       "    </tr>\n",
       "    <tr>\n",
       "      <th>wikinews</th>\n",
       "      <td>0.63</td>\n",
       "      <td>0.04</td>\n",
       "      <td>0.16</td>\n",
       "      <td>0.17</td>\n",
       "    </tr>\n",
       "  </tbody>\n",
       "</table>\n",
       "</div>"
      ],
      "text/plain": [
       "           exact  no_stop  contains  no_match\n",
       "wikipedia   0.57     0.06      0.21      0.15\n",
       "ancora      0.63     0.06      0.17      0.14\n",
       "wikinews    0.63     0.04      0.16      0.17"
      ]
     },
     "execution_count": 17,
     "metadata": {},
     "output_type": "execute_result"
    }
   ],
   "source": [
    "results_by_source(\"match_beto\")"
   ]
  },
  {
   "cell_type": "code",
   "execution_count": 18,
   "metadata": {
    "jupyter": {
     "source_hidden": true
    },
    "tags": []
   },
   "outputs": [
    {
     "data": {
      "text/plain": [
       "<AxesSubplot:>"
      ]
     },
     "execution_count": 18,
     "metadata": {},
     "output_type": "execute_result"
    },
    {
     "data": {
      "image/png": "[encoded data removed]",
      "text/plain": [
       "<Figure size 432x288 with 1 Axes>"
      ]
     },
     "metadata": {
      "needs_background": "light"
     },
     "output_type": "display_data"
    }
   ],
   "source": [
    "results_by_source(\"match_beto\").plot.bar(stacked=True)"
   ]
  },
  {
   "cell_type": "markdown",
   "metadata": {},
   "source": [
    "# Respuestas del bne_base_new"
   ]
  },
  {
   "cell_type": "code",
   "execution_count": 19,
   "metadata": {
    "jupyter": {
     "source_hidden": true
    },
    "tags": []
   },
   "outputs": [
    {
     "data": {
      "text/html": [
       "<div>\n",
       "<style scoped>\n",
       "    .dataframe tbody tr th:only-of-type {\n",
       "        vertical-align: middle;\n",
       "    }\n",
       "\n",
       "    .dataframe tbody tr th {\n",
       "        vertical-align: top;\n",
       "    }\n",
       "\n",
       "    .dataframe thead th {\n",
       "        text-align: right;\n",
       "    }\n",
       "</style>\n",
       "<table border=\"1\" class=\"dataframe\">\n",
       "  <thead>\n",
       "    <tr style=\"text-align: right;\">\n",
       "      <th></th>\n",
       "      <th>answer</th>\n",
       "      <th>answers_bne_base_new</th>\n",
       "      <th>match_bne_base_new</th>\n",
       "    </tr>\n",
       "  </thead>\n",
       "  <tbody>\n",
       "    <tr>\n",
       "      <th>0</th>\n",
       "      <td>célula</td>\n",
       "      <td>La célula</td>\n",
       "      <td>no_stop</td>\n",
       "    </tr>\n",
       "    <tr>\n",
       "      <th>1</th>\n",
       "      <td>del latín cellula, diminutivo de cella, ‘celda’</td>\n",
       "      <td>del latín cellula</td>\n",
       "      <td>contains</td>\n",
       "    </tr>\n",
       "    <tr>\n",
       "      <th>2</th>\n",
       "      <td>unicelulares</td>\n",
       "      <td>unicelulares</td>\n",
       "      <td>exact</td>\n",
       "    </tr>\n",
       "    <tr>\n",
       "      <th>3</th>\n",
       "      <td>el núcleo</td>\n",
       "      <td>el núcleo</td>\n",
       "      <td>exact</td>\n",
       "    </tr>\n",
       "    <tr>\n",
       "      <th>4</th>\n",
       "      <td>gliales</td>\n",
       "      <td>células gliales</td>\n",
       "      <td>contains</td>\n",
       "    </tr>\n",
       "    <tr>\n",
       "      <th>...</th>\n",
       "      <td>...</td>\n",
       "      <td>...</td>\n",
       "      <td>...</td>\n",
       "    </tr>\n",
       "    <tr>\n",
       "      <th>1905</th>\n",
       "      <td>de volea</td>\n",
       "      <td>de volea</td>\n",
       "      <td>exact</td>\n",
       "    </tr>\n",
       "    <tr>\n",
       "      <th>1906</th>\n",
       "      <td>los Países Bajos</td>\n",
       "      <td>Países Bajos</td>\n",
       "      <td>no_stop</td>\n",
       "    </tr>\n",
       "    <tr>\n",
       "      <th>1907</th>\n",
       "      <td>El candidato pro-ruso Victor Yanukovich</td>\n",
       "      <td>El candidato pro-ruso Victor Yanukovich</td>\n",
       "      <td>exact</td>\n",
       "    </tr>\n",
       "    <tr>\n",
       "      <th>1908</th>\n",
       "      <td>48,49%</td>\n",
       "      <td>el 48,49%</td>\n",
       "      <td>no_stop</td>\n",
       "    </tr>\n",
       "    <tr>\n",
       "      <th>1909</th>\n",
       "      <td>no hizo ningún tipo de declaraciones</td>\n",
       "      <td>la primera ministra Yulia Timoshenko</td>\n",
       "      <td>no_match</td>\n",
       "    </tr>\n",
       "  </tbody>\n",
       "</table>\n",
       "<p>1910 rows × 3 columns</p>\n",
       "</div>"
      ],
      "text/plain": [
       "                                               answer  \\\n",
       "0                                              célula   \n",
       "1     del latín cellula, diminutivo de cella, ‘celda’   \n",
       "2                                        unicelulares   \n",
       "3                                           el núcleo   \n",
       "4                                             gliales   \n",
       "...                                               ...   \n",
       "1905                                         de volea   \n",
       "1906                                 los Países Bajos   \n",
       "1907          El candidato pro-ruso Victor Yanukovich   \n",
       "1908                                           48,49%   \n",
       "1909             no hizo ningún tipo de declaraciones   \n",
       "\n",
       "                         answers_bne_base_new match_bne_base_new  \n",
       "0                                   La célula            no_stop  \n",
       "1                           del latín cellula           contains  \n",
       "2                                unicelulares              exact  \n",
       "3                                   el núcleo              exact  \n",
       "4                             células gliales           contains  \n",
       "...                                       ...                ...  \n",
       "1905                                 de volea              exact  \n",
       "1906                             Países Bajos            no_stop  \n",
       "1907  El candidato pro-ruso Victor Yanukovich              exact  \n",
       "1908                                el 48,49%            no_stop  \n",
       "1909     la primera ministra Yulia Timoshenko           no_match  \n",
       "\n",
       "[1910 rows x 3 columns]"
      ]
     },
     "execution_count": 19,
     "metadata": {},
     "output_type": "execute_result"
    }
   ],
   "source": [
    "df[[\"answer\", \"answers_bne_base_new\", \"match_bne_base_new\"]]"
   ]
  },
  {
   "cell_type": "code",
   "execution_count": 20,
   "metadata": {
    "tags": []
   },
   "outputs": [
    {
     "name": "stdout",
     "output_type": "stream",
     "text": [
      "Hem generat el fitxer ./sqac/ans_bne_base_new.csv\n",
      "Hem generat el fitxer ./sqac/ans_mbert.csv\n",
      "Hem generat el fitxer ./sqac/ans_beto.csv\n"
     ]
    }
   ],
   "source": [
    "#my_file = directoryPath + \"alt_ans.csv\"\n",
    "for model in models:\n",
    "    save_file(df[[\"answer\", \"answers_\" + model, \"match_\" + model]], directoryPath + \"ans_\" + model + \".csv\")"
   ]
  },
  {
   "cell_type": "markdown",
   "metadata": {},
   "source": [
    "# Comparativa de los modelos según la fuente"
   ]
  },
  {
   "cell_type": "code",
   "execution_count": 21,
   "metadata": {
    "jupyter": {
     "source_hidden": true
    },
    "tags": []
   },
   "outputs": [
    {
     "data": {
      "text/plain": [
       "wikipedia    867\n",
       "ancora       544\n",
       "wikinews     499\n",
       "Name: source, dtype: int64"
      ]
     },
     "execution_count": 21,
     "metadata": {},
     "output_type": "execute_result"
    }
   ],
   "source": [
    "df[\"source\"].value_counts()"
   ]
  },
  {
   "cell_type": "markdown",
   "metadata": {},
   "source": [
    "## Wikipedia"
   ]
  },
  {
   "cell_type": "code",
   "execution_count": 22,
   "metadata": {
    "jupyter": {
     "source_hidden": true
    },
    "tags": []
   },
   "outputs": [
    {
     "data": {
      "text/html": [
       "<div>\n",
       "<style scoped>\n",
       "    .dataframe tbody tr th:only-of-type {\n",
       "        vertical-align: middle;\n",
       "    }\n",
       "\n",
       "    .dataframe tbody tr th {\n",
       "        vertical-align: top;\n",
       "    }\n",
       "\n",
       "    .dataframe thead th {\n",
       "        text-align: right;\n",
       "    }\n",
       "</style>\n",
       "<table border=\"1\" class=\"dataframe\">\n",
       "  <thead>\n",
       "    <tr style=\"text-align: right;\">\n",
       "      <th></th>\n",
       "      <th>exact</th>\n",
       "      <th>no_stop</th>\n",
       "      <th>contains</th>\n",
       "      <th>no_match</th>\n",
       "    </tr>\n",
       "  </thead>\n",
       "  <tbody>\n",
       "    <tr>\n",
       "      <th>match_bne_base_new</th>\n",
       "      <td>0.54</td>\n",
       "      <td>0.06</td>\n",
       "      <td>0.25</td>\n",
       "      <td>0.15</td>\n",
       "    </tr>\n",
       "    <tr>\n",
       "      <th>match_mbert</th>\n",
       "      <td>0.56</td>\n",
       "      <td>0.06</td>\n",
       "      <td>0.21</td>\n",
       "      <td>0.17</td>\n",
       "    </tr>\n",
       "    <tr>\n",
       "      <th>match_beto</th>\n",
       "      <td>0.57</td>\n",
       "      <td>0.06</td>\n",
       "      <td>0.21</td>\n",
       "      <td>0.15</td>\n",
       "    </tr>\n",
       "  </tbody>\n",
       "</table>\n",
       "</div>"
      ],
      "text/plain": [
       "                    exact  no_stop  contains  no_match\n",
       "match_bne_base_new   0.54     0.06      0.25      0.15\n",
       "match_mbert          0.56     0.06      0.21      0.17\n",
       "match_beto           0.57     0.06      0.21      0.15"
      ]
     },
     "execution_count": 22,
     "metadata": {},
     "output_type": "execute_result"
    }
   ],
   "source": [
    "df_match = create_df_match(df[df['source']==\"wikipedia\"])\n",
    "df_match"
   ]
  },
  {
   "cell_type": "code",
   "execution_count": 23,
   "metadata": {
    "jupyter": {
     "source_hidden": true
    },
    "tags": []
   },
   "outputs": [
    {
     "data": {
      "text/plain": [
       "<AxesSubplot:>"
      ]
     },
     "execution_count": 23,
     "metadata": {},
     "output_type": "execute_result"
    },
    {
     "data": {
      "image/png": "[encoded data removed]",
      "text/plain": [
       "<Figure size 432x288 with 1 Axes>"
      ]
     },
     "metadata": {
      "needs_background": "light"
     },
     "output_type": "display_data"
    }
   ],
   "source": [
    "df_match.plot.bar(stacked=True)"
   ]
  },
  {
   "cell_type": "markdown",
   "metadata": {},
   "source": [
    "## Ancora"
   ]
  },
  {
   "cell_type": "code",
   "execution_count": 24,
   "metadata": {
    "jupyter": {
     "source_hidden": true
    },
    "tags": []
   },
   "outputs": [
    {
     "data": {
      "text/html": [
       "<div>\n",
       "<style scoped>\n",
       "    .dataframe tbody tr th:only-of-type {\n",
       "        vertical-align: middle;\n",
       "    }\n",
       "\n",
       "    .dataframe tbody tr th {\n",
       "        vertical-align: top;\n",
       "    }\n",
       "\n",
       "    .dataframe thead th {\n",
       "        text-align: right;\n",
       "    }\n",
       "</style>\n",
       "<table border=\"1\" class=\"dataframe\">\n",
       "  <thead>\n",
       "    <tr style=\"text-align: right;\">\n",
       "      <th></th>\n",
       "      <th>exact</th>\n",
       "      <th>no_stop</th>\n",
       "      <th>contains</th>\n",
       "      <th>no_match</th>\n",
       "    </tr>\n",
       "  </thead>\n",
       "  <tbody>\n",
       "    <tr>\n",
       "      <th>match_bne_base_new</th>\n",
       "      <td>0.61</td>\n",
       "      <td>0.09</td>\n",
       "      <td>0.16</td>\n",
       "      <td>0.15</td>\n",
       "    </tr>\n",
       "    <tr>\n",
       "      <th>match_mbert</th>\n",
       "      <td>0.59</td>\n",
       "      <td>0.07</td>\n",
       "      <td>0.17</td>\n",
       "      <td>0.17</td>\n",
       "    </tr>\n",
       "    <tr>\n",
       "      <th>match_beto</th>\n",
       "      <td>0.63</td>\n",
       "      <td>0.06</td>\n",
       "      <td>0.17</td>\n",
       "      <td>0.14</td>\n",
       "    </tr>\n",
       "  </tbody>\n",
       "</table>\n",
       "</div>"
      ],
      "text/plain": [
       "                    exact  no_stop  contains  no_match\n",
       "match_bne_base_new   0.61     0.09      0.16      0.15\n",
       "match_mbert          0.59     0.07      0.17      0.17\n",
       "match_beto           0.63     0.06      0.17      0.14"
      ]
     },
     "execution_count": 24,
     "metadata": {},
     "output_type": "execute_result"
    }
   ],
   "source": [
    "df_match = create_df_match(df[df['source']==\"ancora\"])\n",
    "df_match"
   ]
  },
  {
   "cell_type": "code",
   "execution_count": 25,
   "metadata": {
    "jupyter": {
     "source_hidden": true
    },
    "tags": []
   },
   "outputs": [
    {
     "data": {
      "text/plain": [
       "<AxesSubplot:>"
      ]
     },
     "execution_count": 25,
     "metadata": {},
     "output_type": "execute_result"
    },
    {
     "data": {
      "image/png": "[encoded data removed]",
      "text/plain": [
       "<Figure size 432x288 with 1 Axes>"
      ]
     },
     "metadata": {
      "needs_background": "light"
     },
     "output_type": "display_data"
    }
   ],
   "source": [
    "df_match.plot.bar(stacked=True)"
   ]
  },
  {
   "cell_type": "markdown",
   "metadata": {},
   "source": [
    "## Wikinews"
   ]
  },
  {
   "cell_type": "code",
   "execution_count": 26,
   "metadata": {
    "jupyter": {
     "source_hidden": true
    },
    "tags": []
   },
   "outputs": [
    {
     "data": {
      "text/html": [
       "<div>\n",
       "<style scoped>\n",
       "    .dataframe tbody tr th:only-of-type {\n",
       "        vertical-align: middle;\n",
       "    }\n",
       "\n",
       "    .dataframe tbody tr th {\n",
       "        vertical-align: top;\n",
       "    }\n",
       "\n",
       "    .dataframe thead th {\n",
       "        text-align: right;\n",
       "    }\n",
       "</style>\n",
       "<table border=\"1\" class=\"dataframe\">\n",
       "  <thead>\n",
       "    <tr style=\"text-align: right;\">\n",
       "      <th></th>\n",
       "      <th>exact</th>\n",
       "      <th>no_stop</th>\n",
       "      <th>contains</th>\n",
       "      <th>no_match</th>\n",
       "    </tr>\n",
       "  </thead>\n",
       "  <tbody>\n",
       "    <tr>\n",
       "      <th>match_bne_base_new</th>\n",
       "      <td>0.61</td>\n",
       "      <td>0.09</td>\n",
       "      <td>0.16</td>\n",
       "      <td>0.15</td>\n",
       "    </tr>\n",
       "    <tr>\n",
       "      <th>match_mbert</th>\n",
       "      <td>0.59</td>\n",
       "      <td>0.07</td>\n",
       "      <td>0.17</td>\n",
       "      <td>0.17</td>\n",
       "    </tr>\n",
       "    <tr>\n",
       "      <th>match_beto</th>\n",
       "      <td>0.63</td>\n",
       "      <td>0.06</td>\n",
       "      <td>0.17</td>\n",
       "      <td>0.14</td>\n",
       "    </tr>\n",
       "  </tbody>\n",
       "</table>\n",
       "</div>"
      ],
      "text/plain": [
       "                    exact  no_stop  contains  no_match\n",
       "match_bne_base_new   0.61     0.09      0.16      0.15\n",
       "match_mbert          0.59     0.07      0.17      0.17\n",
       "match_beto           0.63     0.06      0.17      0.14"
      ]
     },
     "execution_count": 26,
     "metadata": {},
     "output_type": "execute_result"
    }
   ],
   "source": [
    "df_match = create_df_match(df[df['source']==\"ancora\"])\n",
    "df_match"
   ]
  },
  {
   "cell_type": "code",
   "execution_count": 27,
   "metadata": {
    "jupyter": {
     "source_hidden": true
    },
    "tags": []
   },
   "outputs": [
    {
     "data": {
      "text/plain": [
       "<AxesSubplot:>"
      ]
     },
     "execution_count": 27,
     "metadata": {},
     "output_type": "execute_result"
    },
    {
     "data": {
      "image/png": "[encoded data removed]",
      "text/plain": [
       "<Figure size 432x288 with 1 Axes>"
      ]
     },
     "metadata": {
      "needs_background": "light"
     },
     "output_type": "display_data"
    }
   ],
   "source": [
    "df_match.plot.bar(stacked=True)"
   ]
  },
  {
   "cell_type": "markdown",
   "metadata": {},
   "source": [
    "# Análisis de las respuestas"
   ]
  },
  {
   "cell_type": "code",
   "execution_count": 28,
   "metadata": {
    "tags": []
   },
   "outputs": [],
   "source": [
    "df_all_ok = pd.DataFrame(columns = [\"id\", \"question\", \"answer\", \"source\"]) \n",
    "df_alt_ans = pd.DataFrame(columns = [\"id\", \"question\", \"answer\", \"alt_answer\", \"match\", \"source\"]) \n",
    "df_1h = pd.DataFrame(columns = [\"id\", \"question\", \"answer\", \"bne_base_new\", \"mbert\", \"beto\", \"model_dif\", \"source\"]) \n",
    "columns = [\"answer_no_stop\"]\n",
    "for model in models:\n",
    "    columns.append(\"no_stop_\" + model)\n",
    "    \n",
    "for k,row in df.iterrows():\n",
    "    results = []\n",
    "    r_columns = columns[:] \n",
    "    for column in columns:\n",
    "        r_columns.pop(0)\n",
    "        if len(r_columns) > 0:\n",
    "            for r_column in r_columns:\n",
    "                if df.loc[k, column] == df.loc[k, r_column]:\n",
    "                    results.append(\"True\")\n",
    "                else:\n",
    "                    results.append(\"False\")\n",
    "        dataset_results = results[:len(models)]\n",
    "        models_results = results[len(models):]\n",
    "    if dataset_results.count(\"True\") == len(models):\n",
    "        df_all_ok.loc[len(df_all_ok.index)] = [df.loc[k, \"id\"], df.loc[k, \"question\"], df.loc[k, \"answer_no_stop\"], df.loc[k, \"source\"]]\n",
    "    elif dataset_results.count(\"True\") == 1:\n",
    "        for i, r in enumerate(dataset_results):\n",
    "            if r == \"True\":\n",
    "                model_dif = models[i]              \n",
    "        df_1h.loc[len(df_all_ok.index)] = [df.loc[k, \"id\"], df.loc[k, \"question\"], df.loc[k, \"answer_no_stop\"], df.loc[k, \"no_stop_bne_base_new\"], df.loc[k, \"no_stop_mbert\"], df.loc[k, \"no_stop_beto\"], model_dif, df.loc[k, \"source\"]]\n",
    "    elif dataset_results.count(\"True\") == 0:\n",
    "        if models_results.count(\"True\") == len(models_results):\n",
    "            df_alt_ans.loc[len(df_all_ok.index)] = [df.loc[k, \"id\"], df.loc[k, \"question\"], df.loc[k, \"answer_no_stop\"], df.loc[k, \"no_stop_bne_base_new\"], df.loc[k, \"match_bne_base_new\"], df.loc[k, \"source\"]] \n",
    "    \n",
    "        \n",
    "    "
   ]
  },
  {
   "cell_type": "markdown",
   "metadata": {},
   "source": [
    "## Preguntas en que todos los modelos han dado la misma respuesta, igual al dataset"
   ]
  },
  {
   "cell_type": "code",
   "execution_count": 29,
   "metadata": {
    "tags": []
   },
   "outputs": [
    {
     "data": {
      "text/html": [
       "<div>\n",
       "<style scoped>\n",
       "    .dataframe tbody tr th:only-of-type {\n",
       "        vertical-align: middle;\n",
       "    }\n",
       "\n",
       "    .dataframe tbody tr th {\n",
       "        vertical-align: top;\n",
       "    }\n",
       "\n",
       "    .dataframe thead th {\n",
       "        text-align: right;\n",
       "    }\n",
       "</style>\n",
       "<table border=\"1\" class=\"dataframe\">\n",
       "  <thead>\n",
       "    <tr style=\"text-align: right;\">\n",
       "      <th></th>\n",
       "      <th>id</th>\n",
       "      <th>question</th>\n",
       "      <th>answer</th>\n",
       "      <th>source</th>\n",
       "    </tr>\n",
       "  </thead>\n",
       "  <tbody>\n",
       "    <tr>\n",
       "      <th>0</th>\n",
       "      <td>56ea5a6b-c494-43fb-8af9-f084e1b3ff11</td>\n",
       "      <td>¿Cuál es el nombre que se le da a la unidad mo...</td>\n",
       "      <td>célula</td>\n",
       "      <td>wikipedia</td>\n",
       "    </tr>\n",
       "    <tr>\n",
       "      <th>1</th>\n",
       "      <td>7080811e-67c4-472f-94ce-afa1b69fb4a1</td>\n",
       "      <td>¿Cómo se denominan a los seres vivos con una ú...</td>\n",
       "      <td>unicelulares</td>\n",
       "      <td>wikipedia</td>\n",
       "    </tr>\n",
       "    <tr>\n",
       "      <th>2</th>\n",
       "      <td>8c5ab52a-3306-4389-ab5c-b5a394fbf77b</td>\n",
       "      <td>¿Dónde se encuentra el material genético en la...</td>\n",
       "      <td>núcleo</td>\n",
       "      <td>wikipedia</td>\n",
       "    </tr>\n",
       "    <tr>\n",
       "      <th>3</th>\n",
       "      <td>ad218c32-a803-43db-9b2d-19cf3d969f1d</td>\n",
       "      <td>¿Cuál es el componente primordial de la pared ...</td>\n",
       "      <td>celulosa</td>\n",
       "      <td>wikipedia</td>\n",
       "    </tr>\n",
       "    <tr>\n",
       "      <th>4</th>\n",
       "      <td>eeaeee34-405a-4ddd-bbea-330c459c46a6</td>\n",
       "      <td>¿Qué instrumento permitió el estudio de las cé...</td>\n",
       "      <td>microscopio rudimentario de lentes compuestas</td>\n",
       "      <td>wikipedia</td>\n",
       "    </tr>\n",
       "    <tr>\n",
       "      <th>...</th>\n",
       "      <td>...</td>\n",
       "      <td>...</td>\n",
       "      <td>...</td>\n",
       "      <td>...</td>\n",
       "    </tr>\n",
       "    <tr>\n",
       "      <th>946</th>\n",
       "      <td>a0f32196-8a01-4c34-b3b7-250c4d6eddb9</td>\n",
       "      <td>¿A qué países viaja Condoleezza Rice?</td>\n",
       "      <td>Brasil, Colombia, Chile y El Salvador</td>\n",
       "      <td>wikinews</td>\n",
       "    </tr>\n",
       "    <tr>\n",
       "      <th>947</th>\n",
       "      <td>8b7753c6-c27e-4b13-bb64-8b33710a3c90</td>\n",
       "      <td>¿Qué temas tratará Condoleezza Rice durante su...</td>\n",
       "      <td>tráfico de drogas y crimen, reducción de la po...</td>\n",
       "      <td>wikinews</td>\n",
       "    </tr>\n",
       "    <tr>\n",
       "      <th>948</th>\n",
       "      <td>d3284ee0-7209-46eb-b83c-645df6fd5af6</td>\n",
       "      <td>¿Cuál es la forma del parque de la Ciudadela e...</td>\n",
       "      <td>semicircular</td>\n",
       "      <td>wikipedia</td>\n",
       "    </tr>\n",
       "    <tr>\n",
       "      <th>949</th>\n",
       "      <td>7ba2a5a8-6ea4-4035-930a-9aab6e3c4644</td>\n",
       "      <td>¿Quién fue Joaquim Renart?</td>\n",
       "      <td>un pintor, decorador y coleccionista, fundador...</td>\n",
       "      <td>wikipedia</td>\n",
       "    </tr>\n",
       "    <tr>\n",
       "      <th>950</th>\n",
       "      <td>ada85f7e-a368-430e-b716-be1633349998</td>\n",
       "      <td>¿Qué jugador resultó lesionado?</td>\n",
       "      <td>Ángel Di María</td>\n",
       "      <td>wikinews</td>\n",
       "    </tr>\n",
       "  </tbody>\n",
       "</table>\n",
       "<p>951 rows × 4 columns</p>\n",
       "</div>"
      ],
      "text/plain": [
       "                                       id  \\\n",
       "0    56ea5a6b-c494-43fb-8af9-f084e1b3ff11   \n",
       "1    7080811e-67c4-472f-94ce-afa1b69fb4a1   \n",
       "2    8c5ab52a-3306-4389-ab5c-b5a394fbf77b   \n",
       "3    ad218c32-a803-43db-9b2d-19cf3d969f1d   \n",
       "4    eeaeee34-405a-4ddd-bbea-330c459c46a6   \n",
       "..                                    ...   \n",
       "946  a0f32196-8a01-4c34-b3b7-250c4d6eddb9   \n",
       "947  8b7753c6-c27e-4b13-bb64-8b33710a3c90   \n",
       "948  d3284ee0-7209-46eb-b83c-645df6fd5af6   \n",
       "949  7ba2a5a8-6ea4-4035-930a-9aab6e3c4644   \n",
       "950  ada85f7e-a368-430e-b716-be1633349998   \n",
       "\n",
       "                                              question  \\\n",
       "0    ¿Cuál es el nombre que se le da a la unidad mo...   \n",
       "1    ¿Cómo se denominan a los seres vivos con una ú...   \n",
       "2    ¿Dónde se encuentra el material genético en la...   \n",
       "3    ¿Cuál es el componente primordial de la pared ...   \n",
       "4    ¿Qué instrumento permitió el estudio de las cé...   \n",
       "..                                                 ...   \n",
       "946              ¿A qué países viaja Condoleezza Rice?   \n",
       "947  ¿Qué temas tratará Condoleezza Rice durante su...   \n",
       "948  ¿Cuál es la forma del parque de la Ciudadela e...   \n",
       "949                         ¿Quién fue Joaquim Renart?   \n",
       "950                    ¿Qué jugador resultó lesionado?   \n",
       "\n",
       "                                                answer     source  \n",
       "0                                               célula  wikipedia  \n",
       "1                                         unicelulares  wikipedia  \n",
       "2                                               núcleo  wikipedia  \n",
       "3                                             celulosa  wikipedia  \n",
       "4        microscopio rudimentario de lentes compuestas  wikipedia  \n",
       "..                                                 ...        ...  \n",
       "946              Brasil, Colombia, Chile y El Salvador   wikinews  \n",
       "947  tráfico de drogas y crimen, reducción de la po...   wikinews  \n",
       "948                                       semicircular  wikipedia  \n",
       "949  un pintor, decorador y coleccionista, fundador...  wikipedia  \n",
       "950                                     Ángel Di María   wikinews  \n",
       "\n",
       "[951 rows x 4 columns]"
      ]
     },
     "execution_count": 29,
     "metadata": {},
     "output_type": "execute_result"
    }
   ],
   "source": [
    "df_all_ok"
   ]
  },
  {
   "cell_type": "markdown",
   "metadata": {},
   "source": [
    "## Preguntas en las que todos los modelos han dado la misma respuesta, distinta al dataset"
   ]
  },
  {
   "cell_type": "code",
   "execution_count": 30,
   "metadata": {
    "jupyter": {
     "source_hidden": true
    },
    "tags": []
   },
   "outputs": [
    {
     "data": {
      "text/html": [
       "<div>\n",
       "<style scoped>\n",
       "    .dataframe tbody tr th:only-of-type {\n",
       "        vertical-align: middle;\n",
       "    }\n",
       "\n",
       "    .dataframe tbody tr th {\n",
       "        vertical-align: top;\n",
       "    }\n",
       "\n",
       "    .dataframe thead th {\n",
       "        text-align: right;\n",
       "    }\n",
       "</style>\n",
       "<table border=\"1\" class=\"dataframe\">\n",
       "  <thead>\n",
       "    <tr style=\"text-align: right;\">\n",
       "      <th></th>\n",
       "      <th>id</th>\n",
       "      <th>question</th>\n",
       "      <th>answer</th>\n",
       "      <th>alt_answer</th>\n",
       "      <th>match</th>\n",
       "      <th>source</th>\n",
       "    </tr>\n",
       "  </thead>\n",
       "  <tbody>\n",
       "    <tr>\n",
       "      <th>1</th>\n",
       "      <td>82ff0c00-c4a6-4677-af88-b9a05cce3b3f</td>\n",
       "      <td>¿De dónde proviene el término \"célula\")</td>\n",
       "      <td>latín cellula, diminutivo de cella, ‘celda’</td>\n",
       "      <td>latín cellula</td>\n",
       "      <td>contains</td>\n",
       "      <td>wikipedia</td>\n",
       "    </tr>\n",
       "    <tr>\n",
       "      <th>3</th>\n",
       "      <td>cb1d5d94-ae86-4167-a8df-1de5a8a83038</td>\n",
       "      <td>¿Cómo se llaman las células que necesitan las ...</td>\n",
       "      <td>gliales</td>\n",
       "      <td>células gliales</td>\n",
       "      <td>contains</td>\n",
       "      <td>wikipedia</td>\n",
       "    </tr>\n",
       "    <tr>\n",
       "      <th>5</th>\n",
       "      <td>0e6afdc9-57a7-46b4-89cf-7923fe47d4ac</td>\n",
       "      <td>¿Cómo se logran resultados más decisivos respe...</td>\n",
       "      <td>mediante los estudios de microscopía electróni...</td>\n",
       "      <td>mediante los estudios de microscopía electróni...</td>\n",
       "      <td>contains</td>\n",
       "      <td>wikipedia</td>\n",
       "    </tr>\n",
       "    <tr>\n",
       "      <th>17</th>\n",
       "      <td>7e03463b-c0f8-45b9-8145-10839a3784b8</td>\n",
       "      <td>¿Dónde fueron descubiertos los restos históricos?</td>\n",
       "      <td>distrito de Aïn Shams</td>\n",
       "      <td>distrito de Aïn Shams, al este de El Cairo</td>\n",
       "      <td>contains</td>\n",
       "      <td>wikinews</td>\n",
       "    </tr>\n",
       "    <tr>\n",
       "      <th>19</th>\n",
       "      <td>75237723-d90d-4c14-8cbb-7aab4701a1b3</td>\n",
       "      <td>¿Cuál es la confederación con un menor porcent...</td>\n",
       "      <td>AFC</td>\n",
       "      <td>Concacaf</td>\n",
       "      <td>no_match</td>\n",
       "      <td>wikipedia</td>\n",
       "    </tr>\n",
       "    <tr>\n",
       "      <th>...</th>\n",
       "      <td>...</td>\n",
       "      <td>...</td>\n",
       "      <td>...</td>\n",
       "      <td>...</td>\n",
       "      <td>...</td>\n",
       "      <td>...</td>\n",
       "    </tr>\n",
       "    <tr>\n",
       "      <th>923</th>\n",
       "      <td>a3766822-646d-4142-9536-6feff3cd5ca0</td>\n",
       "      <td>¿La luz de qué planeta se relaciona con el pen...</td>\n",
       "      <td>de la Luna</td>\n",
       "      <td>Luna</td>\n",
       "      <td>contains</td>\n",
       "      <td>wikipedia</td>\n",
       "    </tr>\n",
       "    <tr>\n",
       "      <th>933</th>\n",
       "      <td>2ac11ff1-32bf-4d7c-a904-049027d6d14d</td>\n",
       "      <td>¿Cuándo se estrenó la primera película de cine...</td>\n",
       "      <td>1934</td>\n",
       "      <td>20 de mayo de 1897</td>\n",
       "      <td>no_match</td>\n",
       "      <td>wikipedia</td>\n",
       "    </tr>\n",
       "    <tr>\n",
       "      <th>934</th>\n",
       "      <td>5d544319-40c2-4b03-974a-071836a0766b</td>\n",
       "      <td>¿Cuándo se produjo el choque?</td>\n",
       "      <td>alrededor de las 15:40 [hora local]</td>\n",
       "      <td>alrededor de las 15:40 [hora local</td>\n",
       "      <td>contains</td>\n",
       "      <td>wikinews</td>\n",
       "    </tr>\n",
       "    <tr>\n",
       "      <th>945</th>\n",
       "      <td>91ade7b1-c915-4e03-ad44-5828d4421b9d</td>\n",
       "      <td>¿A cuánta distancia puede llegar el cañón de n...</td>\n",
       "      <td>cincuenta metros</td>\n",
       "      <td>más de cincuenta metros</td>\n",
       "      <td>contains</td>\n",
       "      <td>ancora</td>\n",
       "    </tr>\n",
       "    <tr>\n",
       "      <th>946</th>\n",
       "      <td>8ce0692c-4773-453f-bfbc-ed30768647b7</td>\n",
       "      <td>¿Cuándo se firmó el pacto sobre la cachaça y e...</td>\n",
       "      <td>último viernes (4</td>\n",
       "      <td>último viernes</td>\n",
       "      <td>contains</td>\n",
       "      <td>wikinews</td>\n",
       "    </tr>\n",
       "  </tbody>\n",
       "</table>\n",
       "<p>142 rows × 6 columns</p>\n",
       "</div>"
      ],
      "text/plain": [
       "                                       id  \\\n",
       "1    82ff0c00-c4a6-4677-af88-b9a05cce3b3f   \n",
       "3    cb1d5d94-ae86-4167-a8df-1de5a8a83038   \n",
       "5    0e6afdc9-57a7-46b4-89cf-7923fe47d4ac   \n",
       "17   7e03463b-c0f8-45b9-8145-10839a3784b8   \n",
       "19   75237723-d90d-4c14-8cbb-7aab4701a1b3   \n",
       "..                                    ...   \n",
       "923  a3766822-646d-4142-9536-6feff3cd5ca0   \n",
       "933  2ac11ff1-32bf-4d7c-a904-049027d6d14d   \n",
       "934  5d544319-40c2-4b03-974a-071836a0766b   \n",
       "945  91ade7b1-c915-4e03-ad44-5828d4421b9d   \n",
       "946  8ce0692c-4773-453f-bfbc-ed30768647b7   \n",
       "\n",
       "                                              question  \\\n",
       "1              ¿De dónde proviene el término \"célula\")   \n",
       "3    ¿Cómo se llaman las células que necesitan las ...   \n",
       "5    ¿Cómo se logran resultados más decisivos respe...   \n",
       "17   ¿Dónde fueron descubiertos los restos históricos?   \n",
       "19   ¿Cuál es la confederación con un menor porcent...   \n",
       "..                                                 ...   \n",
       "923  ¿La luz de qué planeta se relaciona con el pen...   \n",
       "933  ¿Cuándo se estrenó la primera película de cine...   \n",
       "934                      ¿Cuándo se produjo el choque?   \n",
       "945  ¿A cuánta distancia puede llegar el cañón de n...   \n",
       "946  ¿Cuándo se firmó el pacto sobre la cachaça y e...   \n",
       "\n",
       "                                                answer  \\\n",
       "1          latín cellula, diminutivo de cella, ‘celda’   \n",
       "3                                              gliales   \n",
       "5    mediante los estudios de microscopía electróni...   \n",
       "17                               distrito de Aïn Shams   \n",
       "19                                                 AFC   \n",
       "..                                                 ...   \n",
       "923                                         de la Luna   \n",
       "933                                               1934   \n",
       "934                alrededor de las 15:40 [hora local]   \n",
       "945                                   cincuenta metros   \n",
       "946                                  último viernes (4   \n",
       "\n",
       "                                            alt_answer     match     source  \n",
       "1                                        latín cellula  contains  wikipedia  \n",
       "3                                      células gliales  contains  wikipedia  \n",
       "5    mediante los estudios de microscopía electróni...  contains  wikipedia  \n",
       "17          distrito de Aïn Shams, al este de El Cairo  contains   wikinews  \n",
       "19                                            Concacaf  no_match  wikipedia  \n",
       "..                                                 ...       ...        ...  \n",
       "923                                               Luna  contains  wikipedia  \n",
       "933                                 20 de mayo de 1897  no_match  wikipedia  \n",
       "934                 alrededor de las 15:40 [hora local  contains   wikinews  \n",
       "945                            más de cincuenta metros  contains     ancora  \n",
       "946                                     último viernes  contains   wikinews  \n",
       "\n",
       "[142 rows x 6 columns]"
      ]
     },
     "execution_count": 30,
     "metadata": {},
     "output_type": "execute_result"
    }
   ],
   "source": [
    "df_alt_ans"
   ]
  },
  {
   "cell_type": "code",
   "execution_count": 31,
   "metadata": {
    "jupyter": {
     "source_hidden": true
    },
    "tags": []
   },
   "outputs": [
    {
     "name": "stdout",
     "output_type": "stream",
     "text": [
      "Hem generat el fitxer ./sqac/alt_ans.csv\n"
     ]
    }
   ],
   "source": [
    "save_file(df_alt_ans, directoryPath + \"alt_ans.csv\")"
   ]
  },
  {
   "cell_type": "code",
   "execution_count": 32,
   "metadata": {
    "tags": []
   },
   "outputs": [
    {
     "data": {
      "text/plain": [
       "contains    103\n",
       "no_match     39\n",
       "Name: match, dtype: int64"
      ]
     },
     "execution_count": 32,
     "metadata": {},
     "output_type": "execute_result"
    }
   ],
   "source": [
    "df_alt_ans[\"match\"].value_counts()"
   ]
  },
  {
   "cell_type": "markdown",
   "metadata": {},
   "source": [
    "### Preguntas en las que todos los modelos han dado la misma respuesta, que no coincide en nada con la del dataset\n",
    "(subconjunto de la tabla anterior)"
   ]
  },
  {
   "cell_type": "code",
   "execution_count": 33,
   "metadata": {
    "jupyter": {
     "source_hidden": true
    },
    "tags": []
   },
   "outputs": [
    {
     "data": {
      "text/html": [
       "<div>\n",
       "<style scoped>\n",
       "    .dataframe tbody tr th:only-of-type {\n",
       "        vertical-align: middle;\n",
       "    }\n",
       "\n",
       "    .dataframe tbody tr th {\n",
       "        vertical-align: top;\n",
       "    }\n",
       "\n",
       "    .dataframe thead th {\n",
       "        text-align: right;\n",
       "    }\n",
       "</style>\n",
       "<table border=\"1\" class=\"dataframe\">\n",
       "  <thead>\n",
       "    <tr style=\"text-align: right;\">\n",
       "      <th></th>\n",
       "      <th>id</th>\n",
       "      <th>question</th>\n",
       "      <th>answer</th>\n",
       "      <th>alt_answer</th>\n",
       "      <th>match</th>\n",
       "      <th>source</th>\n",
       "    </tr>\n",
       "  </thead>\n",
       "  <tbody>\n",
       "    <tr>\n",
       "      <th>19</th>\n",
       "      <td>75237723-d90d-4c14-8cbb-7aab4701a1b3</td>\n",
       "      <td>¿Cuál es la confederación con un menor porcent...</td>\n",
       "      <td>AFC</td>\n",
       "      <td>Concacaf</td>\n",
       "      <td>no_match</td>\n",
       "      <td>wikipedia</td>\n",
       "    </tr>\n",
       "    <tr>\n",
       "      <th>24</th>\n",
       "      <td>7a0f986c-dd53-4917-96aa-8979bc8a7c74</td>\n",
       "      <td>¿Cuándo comenzaron las manifestaciones en el p...</td>\n",
       "      <td>elecciones legislativas del pasado 15 de mayo</td>\n",
       "      <td>lunes</td>\n",
       "      <td>no_match</td>\n",
       "      <td>wikinews</td>\n",
       "    </tr>\n",
       "    <tr>\n",
       "      <th>28</th>\n",
       "      <td>b7d6f4ea-126a-49c0-b244-af478a0356af</td>\n",
       "      <td>¿Qué puede causar que dejes tu equipo?</td>\n",
       "      <td>motivos profesionales</td>\n",
       "      <td>una mala racha</td>\n",
       "      <td>no_match</td>\n",
       "      <td>ancora</td>\n",
       "    </tr>\n",
       "    <tr>\n",
       "      <th>31</th>\n",
       "      <td>ff10c022-a4be-4db7-8a40-653e72c0538c</td>\n",
       "      <td>¿Cómo se declaraba el pueblo de Yugoslavia dur...</td>\n",
       "      <td>favorable a los Aliados</td>\n",
       "      <td>neutral</td>\n",
       "      <td>no_match</td>\n",
       "      <td>wikipedia</td>\n",
       "    </tr>\n",
       "    <tr>\n",
       "      <th>71</th>\n",
       "      <td>6103a299-6f4d-4bad-b229-11ebc95ee1f1</td>\n",
       "      <td>¿Cuándo se tradujo por primera vez al español ...</td>\n",
       "      <td>1777</td>\n",
       "      <td>1802 y 1807</td>\n",
       "      <td>no_match</td>\n",
       "      <td>wikipedia</td>\n",
       "    </tr>\n",
       "    <tr>\n",
       "      <th>91</th>\n",
       "      <td>474b9093-2478-4798-86e0-8f7493fbaaeb</td>\n",
       "      <td>¿Cuánto aumentaron los márgenes de las peras p...</td>\n",
       "      <td>un seis por ciento</td>\n",
       "      <td>62 por ciento</td>\n",
       "      <td>no_match</td>\n",
       "      <td>ancora</td>\n",
       "    </tr>\n",
       "    <tr>\n",
       "      <th>122</th>\n",
       "      <td>4380f375-42af-4529-b961-7e5cdd2197f4</td>\n",
       "      <td>¿Cuál era el nombre de Tallin tras la independ...</td>\n",
       "      <td>Tallinna</td>\n",
       "      <td>Reval</td>\n",
       "      <td>no_match</td>\n",
       "      <td>wikipedia</td>\n",
       "    </tr>\n",
       "    <tr>\n",
       "      <th>131</th>\n",
       "      <td>7630c71d-0c0e-4856-a2b2-d76d8020b5e2</td>\n",
       "      <td>¿Cómo se conoce también en castellano a las mu...</td>\n",
       "      <td>Damas del Imperio Invisible</td>\n",
       "      <td>Ku Klux Klan Women</td>\n",
       "      <td>no_match</td>\n",
       "      <td>wikipedia</td>\n",
       "    </tr>\n",
       "    <tr>\n",
       "      <th>156</th>\n",
       "      <td>7ceb2a51-f30e-48ef-aaf1-7a558f5a6dd5</td>\n",
       "      <td>¿Cómo se piensa que mejoraría la diversidad de...</td>\n",
       "      <td>disminuyendo el tamaño de las cuencas oceánicas</td>\n",
       "      <td>más abundante en aguas poco profundas</td>\n",
       "      <td>no_match</td>\n",
       "      <td>wikipedia</td>\n",
       "    </tr>\n",
       "    <tr>\n",
       "      <th>162</th>\n",
       "      <td>66f4324c-91ca-4426-8b7d-52a2ce65a9b6</td>\n",
       "      <td>¿Dónde se dice que los resultados de ADN sobre...</td>\n",
       "      <td>libro titulado The Riddle of Anna Anderson</td>\n",
       "      <td>prensa</td>\n",
       "      <td>no_match</td>\n",
       "      <td>wikipedia</td>\n",
       "    </tr>\n",
       "    <tr>\n",
       "      <th>186</th>\n",
       "      <td>b75dda02-16e2-48db-8e1c-3893ac97e3e3</td>\n",
       "      <td>¿Cuándo se celebró el primer debate?</td>\n",
       "      <td>25 de abril pasado</td>\n",
       "      <td>pasado 26 de mayo</td>\n",
       "      <td>no_match</td>\n",
       "      <td>ancora</td>\n",
       "    </tr>\n",
       "    <tr>\n",
       "      <th>208</th>\n",
       "      <td>c66c4e58-16de-48ba-b9f2-ba7ec85b0574</td>\n",
       "      <td>¿Quién se cree que escribió el corpus hipocrát...</td>\n",
       "      <td>sus estudiantes y discípulos</td>\n",
       "      <td>Hipócrates</td>\n",
       "      <td>no_match</td>\n",
       "      <td>wikipedia</td>\n",
       "    </tr>\n",
       "    <tr>\n",
       "      <th>220</th>\n",
       "      <td>0e83b6ca-6f77-4d3a-b838-05a04ed30f06</td>\n",
       "      <td>¿Adónde viajaba Antonini Wilson?</td>\n",
       "      <td>Argentina</td>\n",
       "      <td>Buenos Aires</td>\n",
       "      <td>no_match</td>\n",
       "      <td>wikinews</td>\n",
       "    </tr>\n",
       "    <tr>\n",
       "      <th>227</th>\n",
       "      <td>1405842d-ed78-4ff2-9fbf-9bd0c43ae298</td>\n",
       "      <td>¿Qué dolencia causó la muerte de Alberto Víctor?</td>\n",
       "      <td>neumonía</td>\n",
       "      <td>gripe</td>\n",
       "      <td>no_match</td>\n",
       "      <td>wikipedia</td>\n",
       "    </tr>\n",
       "    <tr>\n",
       "      <th>262</th>\n",
       "      <td>72191cbc-5ee1-418c-9df2-86be714975f5</td>\n",
       "      <td>¿Cuál se cree que es el primer tipo de pez que...</td>\n",
       "      <td>salvelino</td>\n",
       "      <td>powan</td>\n",
       "      <td>no_match</td>\n",
       "      <td>wikipedia</td>\n",
       "    </tr>\n",
       "    <tr>\n",
       "      <th>279</th>\n",
       "      <td>88f5c1eb-f1e3-4121-92b5-bccacf1f73cd</td>\n",
       "      <td>¿Dónde tienen más oportunidades los técnicos n...</td>\n",
       "      <td>NBA</td>\n",
       "      <td>NCAA</td>\n",
       "      <td>no_match</td>\n",
       "      <td>ancora</td>\n",
       "    </tr>\n",
       "    <tr>\n",
       "      <th>284</th>\n",
       "      <td>2b004be4-3b29-45a6-a0be-545df1a23cb9</td>\n",
       "      <td>¿Cuál era el significado del título de shōgun?</td>\n",
       "      <td>Gran general apaciguador de los bárbaros</td>\n",
       "      <td>comandante del ejército</td>\n",
       "      <td>no_match</td>\n",
       "      <td>wikipedia</td>\n",
       "    </tr>\n",
       "    <tr>\n",
       "      <th>312</th>\n",
       "      <td>c585072a-5c18-4e05-a1aa-c5639d5552de</td>\n",
       "      <td>¿A qué llamó Budden \"el código Rossini\"?</td>\n",
       "      <td>fórmulas adoptadas desde el principio por Ross...</td>\n",
       "      <td>Código Napoleón</td>\n",
       "      <td>no_match</td>\n",
       "      <td>wikipedia</td>\n",
       "    </tr>\n",
       "    <tr>\n",
       "      <th>390</th>\n",
       "      <td>fa22d295-92b7-49e0-9280-7f6205050804</td>\n",
       "      <td>¿Adónde partirá Ehud Barak el lunes?</td>\n",
       "      <td>Israel</td>\n",
       "      <td>Shepherdstown</td>\n",
       "      <td>no_match</td>\n",
       "      <td>ancora</td>\n",
       "    </tr>\n",
       "    <tr>\n",
       "      <th>426</th>\n",
       "      <td>071617eb-c5d6-49da-b5a5-f92a332177d9</td>\n",
       "      <td>¿Cuándo se aceptó la santidad de Edmundo de Ab...</td>\n",
       "      <td>1246</td>\n",
       "      <td>1241</td>\n",
       "      <td>no_match</td>\n",
       "      <td>wikipedia</td>\n",
       "    </tr>\n",
       "    <tr>\n",
       "      <th>434</th>\n",
       "      <td>057b25b7-9d32-4197-afcb-38176d4fba75</td>\n",
       "      <td>¿Cuántas especies de aves marinas se encuentra...</td>\n",
       "      <td>ciento diez</td>\n",
       "      <td>unas trescientas</td>\n",
       "      <td>no_match</td>\n",
       "      <td>wikipedia</td>\n",
       "    </tr>\n",
       "    <tr>\n",
       "      <th>443</th>\n",
       "      <td>0096d320-22b9-4880-b326-3df5dc15827a</td>\n",
       "      <td>¿Cuándo subió al cargo Esteve?</td>\n",
       "      <td>1996,</td>\n",
       "      <td>mes de noviembre de 1996</td>\n",
       "      <td>no_match</td>\n",
       "      <td>ancora</td>\n",
       "    </tr>\n",
       "    <tr>\n",
       "      <th>480</th>\n",
       "      <td>91e298f6-fb14-4b99-b56a-60edee52a57d</td>\n",
       "      <td>¿Cuál es el título de la película que estrenab...</td>\n",
       "      <td>Lisboa</td>\n",
       "      <td>comunidad</td>\n",
       "      <td>no_match</td>\n",
       "      <td>ancora</td>\n",
       "    </tr>\n",
       "    <tr>\n",
       "      <th>514</th>\n",
       "      <td>de12d802-5efa-418f-aa26-b2c4347d7796</td>\n",
       "      <td>¿Qué equipo entrena Cúper ahora?</td>\n",
       "      <td>Milán</td>\n",
       "      <td>Inter</td>\n",
       "      <td>no_match</td>\n",
       "      <td>ancora</td>\n",
       "    </tr>\n",
       "    <tr>\n",
       "      <th>517</th>\n",
       "      <td>288ff92b-9fcf-4ba3-a945-fead3be2472d</td>\n",
       "      <td>¿Dónde se acreditó por primera vez Niños jugan...</td>\n",
       "      <td>1698</td>\n",
       "      <td>misma ciudad</td>\n",
       "      <td>no_match</td>\n",
       "      <td>wikipedia</td>\n",
       "    </tr>\n",
       "    <tr>\n",
       "      <th>526</th>\n",
       "      <td>cc7b0d5f-1b78-41e9-8f36-8c3c66b1edef</td>\n",
       "      <td>¿Dónde se puede llevar a cabo piragüismo en el...</td>\n",
       "      <td>cañón del Alto Tajo a su paso por el parque na...</td>\n",
       "      <td>embalses de Entrepeñas y Bolarque</td>\n",
       "      <td>no_match</td>\n",
       "      <td>wikipedia</td>\n",
       "    </tr>\n",
       "    <tr>\n",
       "      <th>577</th>\n",
       "      <td>47ea0047-c847-40c9-9932-0dd6de7f906c</td>\n",
       "      <td>¿Cuándo quiso Carolina Rodríguez ser olímpica?</td>\n",
       "      <td>ver ganar el oro a España en Atlanta</td>\n",
       "      <td>1996</td>\n",
       "      <td>no_match</td>\n",
       "      <td>wikipedia</td>\n",
       "    </tr>\n",
       "    <tr>\n",
       "      <th>674</th>\n",
       "      <td>2cc7899f-b3f6-45bf-aec8-52222968e881</td>\n",
       "      <td>¿Cómo era la cubierta de El Loto Azul?</td>\n",
       "      <td>muestra un dragón chino de color rojo sobre fo...</td>\n",
       "      <td>misterioso y oriental</td>\n",
       "      <td>no_match</td>\n",
       "      <td>wikipedia</td>\n",
       "    </tr>\n",
       "    <tr>\n",
       "      <th>676</th>\n",
       "      <td>ada2f906-5a75-411c-9ea1-85449c759853</td>\n",
       "      <td>¿Quién es el presidente del Madrid?</td>\n",
       "      <td>Mendoza</td>\n",
       "      <td>Mariano Jaquotot</td>\n",
       "      <td>no_match</td>\n",
       "      <td>ancora</td>\n",
       "    </tr>\n",
       "    <tr>\n",
       "      <th>784</th>\n",
       "      <td>b1541e1f-54ba-47e9-9138-5ec24dcda5f7</td>\n",
       "      <td>¿Qué deporte practicaba Brian en la escuela?</td>\n",
       "      <td>fútbol americano</td>\n",
       "      <td>surf</td>\n",
       "      <td>no_match</td>\n",
       "      <td>wikipedia</td>\n",
       "    </tr>\n",
       "    <tr>\n",
       "      <th>796</th>\n",
       "      <td>3c6400d0-2ce2-4fb6-8dc9-74d45246227a</td>\n",
       "      <td>¿Qué efecto tiene la imperceptibilidad de las ...</td>\n",
       "      <td>que resulta imposible prever y organizar la de...</td>\n",
       "      <td>psicológico</td>\n",
       "      <td>no_match</td>\n",
       "      <td>ancora</td>\n",
       "    </tr>\n",
       "    <tr>\n",
       "      <th>799</th>\n",
       "      <td>9d4d6a7c-133c-4ee3-8778-266c6579cd6a</td>\n",
       "      <td>¿Cuántos estados han demandado a Microsoft?</td>\n",
       "      <td>17</td>\n",
       "      <td>19</td>\n",
       "      <td>no_match</td>\n",
       "      <td>ancora</td>\n",
       "    </tr>\n",
       "    <tr>\n",
       "      <th>823</th>\n",
       "      <td>fce53b19-dabb-4364-849c-a6c4bf079a9e</td>\n",
       "      <td>¿Cuántos agentes fallecieron en el conflicto?</td>\n",
       "      <td>43</td>\n",
       "      <td>278</td>\n",
       "      <td>no_match</td>\n",
       "      <td>wikinews</td>\n",
       "    </tr>\n",
       "    <tr>\n",
       "      <th>826</th>\n",
       "      <td>59a1f382-ad8e-4c5f-afa0-a4d7e9926c0d</td>\n",
       "      <td>¿De quién depende en la actualidad la Subdirec...</td>\n",
       "      <td>Ministerio de Cultura de Colombia</td>\n",
       "      <td>Instituto Nacional de Vías del Ministerio de T...</td>\n",
       "      <td>no_match</td>\n",
       "      <td>wikipedia</td>\n",
       "    </tr>\n",
       "    <tr>\n",
       "      <th>850</th>\n",
       "      <td>5a6eee26-f592-4b52-a1cc-0791076270d1</td>\n",
       "      <td>¿Dónde ha tenido lugar el horrible incidente?</td>\n",
       "      <td>calle de La Reina</td>\n",
       "      <td>finca sita en el número 17 de la citada calle</td>\n",
       "      <td>no_match</td>\n",
       "      <td>ancora</td>\n",
       "    </tr>\n",
       "    <tr>\n",
       "      <th>868</th>\n",
       "      <td>8157e492-038f-4619-8d1d-8ebe5a40c2ca</td>\n",
       "      <td>¿Quién es el ministro de asuntos exteriores br...</td>\n",
       "      <td>Robin Cook</td>\n",
       "      <td>Josep Piqué</td>\n",
       "      <td>no_match</td>\n",
       "      <td>ancora</td>\n",
       "    </tr>\n",
       "    <tr>\n",
       "      <th>888</th>\n",
       "      <td>7f90da3e-2eab-4e4c-9e34-1f474c4ea76a</td>\n",
       "      <td>¿Qué ha dado a conocer la empresa de Bill Gate...</td>\n",
       "      <td>parche de seguridad</td>\n",
       "      <td>un parche para corregir la vulnerabilidad en l...</td>\n",
       "      <td>no_match</td>\n",
       "      <td>wikinews</td>\n",
       "    </tr>\n",
       "    <tr>\n",
       "      <th>920</th>\n",
       "      <td>0856c9e9-d98a-4ccc-915b-3d2c7592e97b</td>\n",
       "      <td>¿Quién le compró su parte a Manuel Navarrete e...</td>\n",
       "      <td>empresa STP</td>\n",
       "      <td>STP Santiago</td>\n",
       "      <td>no_match</td>\n",
       "      <td>wikinews</td>\n",
       "    </tr>\n",
       "    <tr>\n",
       "      <th>933</th>\n",
       "      <td>2ac11ff1-32bf-4d7c-a904-049027d6d14d</td>\n",
       "      <td>¿Cuándo se estrenó la primera película de cine...</td>\n",
       "      <td>1934</td>\n",
       "      <td>20 de mayo de 1897</td>\n",
       "      <td>no_match</td>\n",
       "      <td>wikipedia</td>\n",
       "    </tr>\n",
       "  </tbody>\n",
       "</table>\n",
       "</div>"
      ],
      "text/plain": [
       "                                       id  \\\n",
       "19   75237723-d90d-4c14-8cbb-7aab4701a1b3   \n",
       "24   7a0f986c-dd53-4917-96aa-8979bc8a7c74   \n",
       "28   b7d6f4ea-126a-49c0-b244-af478a0356af   \n",
       "31   ff10c022-a4be-4db7-8a40-653e72c0538c   \n",
       "71   6103a299-6f4d-4bad-b229-11ebc95ee1f1   \n",
       "91   474b9093-2478-4798-86e0-8f7493fbaaeb   \n",
       "122  4380f375-42af-4529-b961-7e5cdd2197f4   \n",
       "131  7630c71d-0c0e-4856-a2b2-d76d8020b5e2   \n",
       "156  7ceb2a51-f30e-48ef-aaf1-7a558f5a6dd5   \n",
       "162  66f4324c-91ca-4426-8b7d-52a2ce65a9b6   \n",
       "186  b75dda02-16e2-48db-8e1c-3893ac97e3e3   \n",
       "208  c66c4e58-16de-48ba-b9f2-ba7ec85b0574   \n",
       "220  0e83b6ca-6f77-4d3a-b838-05a04ed30f06   \n",
       "227  1405842d-ed78-4ff2-9fbf-9bd0c43ae298   \n",
       "262  72191cbc-5ee1-418c-9df2-86be714975f5   \n",
       "279  88f5c1eb-f1e3-4121-92b5-bccacf1f73cd   \n",
       "284  2b004be4-3b29-45a6-a0be-545df1a23cb9   \n",
       "312  c585072a-5c18-4e05-a1aa-c5639d5552de   \n",
       "390  fa22d295-92b7-49e0-9280-7f6205050804   \n",
       "426  071617eb-c5d6-49da-b5a5-f92a332177d9   \n",
       "434  057b25b7-9d32-4197-afcb-38176d4fba75   \n",
       "443  0096d320-22b9-4880-b326-3df5dc15827a   \n",
       "480  91e298f6-fb14-4b99-b56a-60edee52a57d   \n",
       "514  de12d802-5efa-418f-aa26-b2c4347d7796   \n",
       "517  288ff92b-9fcf-4ba3-a945-fead3be2472d   \n",
       "526  cc7b0d5f-1b78-41e9-8f36-8c3c66b1edef   \n",
       "577  47ea0047-c847-40c9-9932-0dd6de7f906c   \n",
       "674  2cc7899f-b3f6-45bf-aec8-52222968e881   \n",
       "676  ada2f906-5a75-411c-9ea1-85449c759853   \n",
       "784  b1541e1f-54ba-47e9-9138-5ec24dcda5f7   \n",
       "796  3c6400d0-2ce2-4fb6-8dc9-74d45246227a   \n",
       "799  9d4d6a7c-133c-4ee3-8778-266c6579cd6a   \n",
       "823  fce53b19-dabb-4364-849c-a6c4bf079a9e   \n",
       "826  59a1f382-ad8e-4c5f-afa0-a4d7e9926c0d   \n",
       "850  5a6eee26-f592-4b52-a1cc-0791076270d1   \n",
       "868  8157e492-038f-4619-8d1d-8ebe5a40c2ca   \n",
       "888  7f90da3e-2eab-4e4c-9e34-1f474c4ea76a   \n",
       "920  0856c9e9-d98a-4ccc-915b-3d2c7592e97b   \n",
       "933  2ac11ff1-32bf-4d7c-a904-049027d6d14d   \n",
       "\n",
       "                                              question  \\\n",
       "19   ¿Cuál es la confederación con un menor porcent...   \n",
       "24   ¿Cuándo comenzaron las manifestaciones en el p...   \n",
       "28              ¿Qué puede causar que dejes tu equipo?   \n",
       "31   ¿Cómo se declaraba el pueblo de Yugoslavia dur...   \n",
       "71   ¿Cuándo se tradujo por primera vez al español ...   \n",
       "91   ¿Cuánto aumentaron los márgenes de las peras p...   \n",
       "122  ¿Cuál era el nombre de Tallin tras la independ...   \n",
       "131  ¿Cómo se conoce también en castellano a las mu...   \n",
       "156  ¿Cómo se piensa que mejoraría la diversidad de...   \n",
       "162  ¿Dónde se dice que los resultados de ADN sobre...   \n",
       "186               ¿Cuándo se celebró el primer debate?   \n",
       "208  ¿Quién se cree que escribió el corpus hipocrát...   \n",
       "220                   ¿Adónde viajaba Antonini Wilson?   \n",
       "227   ¿Qué dolencia causó la muerte de Alberto Víctor?   \n",
       "262  ¿Cuál se cree que es el primer tipo de pez que...   \n",
       "279  ¿Dónde tienen más oportunidades los técnicos n...   \n",
       "284     ¿Cuál era el significado del título de shōgun?   \n",
       "312           ¿A qué llamó Budden \"el código Rossini\"?   \n",
       "390               ¿Adónde partirá Ehud Barak el lunes?   \n",
       "426  ¿Cuándo se aceptó la santidad de Edmundo de Ab...   \n",
       "434  ¿Cuántas especies de aves marinas se encuentra...   \n",
       "443                     ¿Cuándo subió al cargo Esteve?   \n",
       "480  ¿Cuál es el título de la película que estrenab...   \n",
       "514                   ¿Qué equipo entrena Cúper ahora?   \n",
       "517  ¿Dónde se acreditó por primera vez Niños jugan...   \n",
       "526  ¿Dónde se puede llevar a cabo piragüismo en el...   \n",
       "577     ¿Cuándo quiso Carolina Rodríguez ser olímpica?   \n",
       "674             ¿Cómo era la cubierta de El Loto Azul?   \n",
       "676                ¿Quién es el presidente del Madrid?   \n",
       "784       ¿Qué deporte practicaba Brian en la escuela?   \n",
       "796  ¿Qué efecto tiene la imperceptibilidad de las ...   \n",
       "799        ¿Cuántos estados han demandado a Microsoft?   \n",
       "823      ¿Cuántos agentes fallecieron en el conflicto?   \n",
       "826  ¿De quién depende en la actualidad la Subdirec...   \n",
       "850      ¿Dónde ha tenido lugar el horrible incidente?   \n",
       "868  ¿Quién es el ministro de asuntos exteriores br...   \n",
       "888  ¿Qué ha dado a conocer la empresa de Bill Gate...   \n",
       "920  ¿Quién le compró su parte a Manuel Navarrete e...   \n",
       "933  ¿Cuándo se estrenó la primera película de cine...   \n",
       "\n",
       "                                                answer  \\\n",
       "19                                                 AFC   \n",
       "24       elecciones legislativas del pasado 15 de mayo   \n",
       "28                               motivos profesionales   \n",
       "31                             favorable a los Aliados   \n",
       "71                                                1777   \n",
       "91                                  un seis por ciento   \n",
       "122                                           Tallinna   \n",
       "131                        Damas del Imperio Invisible   \n",
       "156    disminuyendo el tamaño de las cuencas oceánicas   \n",
       "162         libro titulado The Riddle of Anna Anderson   \n",
       "186                                 25 de abril pasado   \n",
       "208                       sus estudiantes y discípulos   \n",
       "220                                          Argentina   \n",
       "227                                           neumonía   \n",
       "262                                          salvelino   \n",
       "279                                                NBA   \n",
       "284           Gran general apaciguador de los bárbaros   \n",
       "312  fórmulas adoptadas desde el principio por Ross...   \n",
       "390                                             Israel   \n",
       "426                                               1246   \n",
       "434                                        ciento diez   \n",
       "443                                              1996,   \n",
       "480                                             Lisboa   \n",
       "514                                              Milán   \n",
       "517                                               1698   \n",
       "526  cañón del Alto Tajo a su paso por el parque na...   \n",
       "577               ver ganar el oro a España en Atlanta   \n",
       "674  muestra un dragón chino de color rojo sobre fo...   \n",
       "676                                            Mendoza   \n",
       "784                                   fútbol americano   \n",
       "796  que resulta imposible prever y organizar la de...   \n",
       "799                                                 17   \n",
       "823                                                 43   \n",
       "826                  Ministerio de Cultura de Colombia   \n",
       "850                                  calle de La Reina   \n",
       "868                                         Robin Cook   \n",
       "888                                parche de seguridad   \n",
       "920                                        empresa STP   \n",
       "933                                               1934   \n",
       "\n",
       "                                            alt_answer     match     source  \n",
       "19                                            Concacaf  no_match  wikipedia  \n",
       "24                                               lunes  no_match   wikinews  \n",
       "28                                      una mala racha  no_match     ancora  \n",
       "31                                             neutral  no_match  wikipedia  \n",
       "71                                         1802 y 1807  no_match  wikipedia  \n",
       "91                                       62 por ciento  no_match     ancora  \n",
       "122                                              Reval  no_match  wikipedia  \n",
       "131                                 Ku Klux Klan Women  no_match  wikipedia  \n",
       "156              más abundante en aguas poco profundas  no_match  wikipedia  \n",
       "162                                             prensa  no_match  wikipedia  \n",
       "186                                  pasado 26 de mayo  no_match     ancora  \n",
       "208                                         Hipócrates  no_match  wikipedia  \n",
       "220                                       Buenos Aires  no_match   wikinews  \n",
       "227                                              gripe  no_match  wikipedia  \n",
       "262                                              powan  no_match  wikipedia  \n",
       "279                                               NCAA  no_match     ancora  \n",
       "284                            comandante del ejército  no_match  wikipedia  \n",
       "312                                    Código Napoleón  no_match  wikipedia  \n",
       "390                                      Shepherdstown  no_match     ancora  \n",
       "426                                               1241  no_match  wikipedia  \n",
       "434                                   unas trescientas  no_match  wikipedia  \n",
       "443                           mes de noviembre de 1996  no_match     ancora  \n",
       "480                                          comunidad  no_match     ancora  \n",
       "514                                              Inter  no_match     ancora  \n",
       "517                                       misma ciudad  no_match  wikipedia  \n",
       "526                  embalses de Entrepeñas y Bolarque  no_match  wikipedia  \n",
       "577                                               1996  no_match  wikipedia  \n",
       "674                              misterioso y oriental  no_match  wikipedia  \n",
       "676                                   Mariano Jaquotot  no_match     ancora  \n",
       "784                                               surf  no_match  wikipedia  \n",
       "796                                        psicológico  no_match     ancora  \n",
       "799                                                 19  no_match     ancora  \n",
       "823                                                278  no_match   wikinews  \n",
       "826  Instituto Nacional de Vías del Ministerio de T...  no_match  wikipedia  \n",
       "850      finca sita en el número 17 de la citada calle  no_match     ancora  \n",
       "868                                        Josep Piqué  no_match     ancora  \n",
       "888  un parche para corregir la vulnerabilidad en l...  no_match   wikinews  \n",
       "920                                       STP Santiago  no_match   wikinews  \n",
       "933                                 20 de mayo de 1897  no_match  wikipedia  "
      ]
     },
     "execution_count": 33,
     "metadata": {},
     "output_type": "execute_result"
    }
   ],
   "source": [
    "df_alt_ans[df_alt_ans[\"match\"]==\"no_match\"]"
   ]
  },
  {
   "cell_type": "code",
   "execution_count": 34,
   "metadata": {
    "jupyter": {
     "source_hidden": true
    },
    "tags": []
   },
   "outputs": [
    {
     "name": "stdout",
     "output_type": "stream",
     "text": [
      "Hem generat el fitxer ./sqac/alt_ans_no_match.csv\n"
     ]
    }
   ],
   "source": [
    "df_alt_ans[df_alt_ans[\"match\"]==\"no_match\"][\"source\"].value_counts()\n",
    "save_file(df_alt_ans[df_alt_ans[\"match\"]==\"no_match\"], directoryPath + \"alt_ans_no_match.csv\")"
   ]
  },
  {
   "cell_type": "markdown",
   "metadata": {},
   "source": [
    "## Preguntas en las que solo un modelo ha dado la misma respuesta que el dataset"
   ]
  },
  {
   "cell_type": "code",
   "execution_count": 35,
   "metadata": {
    "jupyter": {
     "source_hidden": true
    },
    "tags": []
   },
   "outputs": [
    {
     "data": {
      "text/html": [
       "<div>\n",
       "<style scoped>\n",
       "    .dataframe tbody tr th:only-of-type {\n",
       "        vertical-align: middle;\n",
       "    }\n",
       "\n",
       "    .dataframe tbody tr th {\n",
       "        vertical-align: top;\n",
       "    }\n",
       "\n",
       "    .dataframe thead th {\n",
       "        text-align: right;\n",
       "    }\n",
       "</style>\n",
       "<table border=\"1\" class=\"dataframe\">\n",
       "  <thead>\n",
       "    <tr style=\"text-align: right;\">\n",
       "      <th></th>\n",
       "      <th>id</th>\n",
       "      <th>question</th>\n",
       "      <th>answer</th>\n",
       "      <th>bne_base_new</th>\n",
       "      <th>mbert</th>\n",
       "      <th>beto</th>\n",
       "      <th>model_dif</th>\n",
       "      <th>source</th>\n",
       "    </tr>\n",
       "  </thead>\n",
       "  <tbody>\n",
       "    <tr>\n",
       "      <th>12</th>\n",
       "      <td>8fcfdad5-52ca-466a-9281-b7807a6cea04</td>\n",
       "      <td>¿Contra qué protestaban los buques argentinos?</td>\n",
       "      <td>limitaciones impuestas a la captura de merluza</td>\n",
       "      <td>decisión del Gobierno argentino por las limita...</td>\n",
       "      <td>limitaciones impuestas a la captura de merluza</td>\n",
       "      <td>decisión del Gobierno argentino por las limita...</td>\n",
       "      <td>mbert</td>\n",
       "      <td>ancora</td>\n",
       "    </tr>\n",
       "    <tr>\n",
       "      <th>15</th>\n",
       "      <td>715c4249-f08b-455d-9da1-e973c58d72c2</td>\n",
       "      <td>¿Dónde se localizó el epicentro del seísmo?</td>\n",
       "      <td>50 km bajo tierra en la prefectura de Ibaraki,...</td>\n",
       "      <td>50 km bajo tierra en la prefectura de Ibaraki,...</td>\n",
       "      <td>prefectura de Ibaraki</td>\n",
       "      <td>centro de Japón</td>\n",
       "      <td>bne_base_new</td>\n",
       "      <td>wikinews</td>\n",
       "    </tr>\n",
       "    <tr>\n",
       "      <th>19</th>\n",
       "      <td>6b874d4b-1d54-44a3-8f47-ac15bdb0f17e</td>\n",
       "      <td>¿Qué porcentaje de la población mundial juega ...</td>\n",
       "      <td>4 %</td>\n",
       "      <td>4 %</td>\n",
       "      <td>alrededor del 4 %</td>\n",
       "      <td>alrededor del 4 %</td>\n",
       "      <td>bne_base_new</td>\n",
       "      <td>wikipedia</td>\n",
       "    </tr>\n",
       "    <tr>\n",
       "      <th>20</th>\n",
       "      <td>a9694543-cf58-4be1-9ca7-a025117b2911</td>\n",
       "      <td>¿Cuál es la probabilidad que tienen las orcas ...</td>\n",
       "      <td>extremadamente alta</td>\n",
       "      <td>37 y 50 % de las crías</td>\n",
       "      <td>extremadamente alta</td>\n",
       "      <td>37 y 50 %</td>\n",
       "      <td>mbert</td>\n",
       "      <td>wikipedia</td>\n",
       "    </tr>\n",
       "    <tr>\n",
       "      <th>31</th>\n",
       "      <td>f4395ed9-f089-4f39-b03d-09b660094f19</td>\n",
       "      <td>¿Cuál fue la posición que adoptó el gobierno y...</td>\n",
       "      <td>neutral</td>\n",
       "      <td>se declaró neutral</td>\n",
       "      <td>neutral</td>\n",
       "      <td>se declaró neutral</td>\n",
       "      <td>mbert</td>\n",
       "      <td>wikipedia</td>\n",
       "    </tr>\n",
       "    <tr>\n",
       "      <th>...</th>\n",
       "      <td>...</td>\n",
       "      <td>...</td>\n",
       "      <td>...</td>\n",
       "      <td>...</td>\n",
       "      <td>...</td>\n",
       "      <td>...</td>\n",
       "      <td>...</td>\n",
       "      <td>...</td>\n",
       "    </tr>\n",
       "    <tr>\n",
       "      <th>926</th>\n",
       "      <td>1b9306c7-770e-4d7b-adef-eeed0c8d15ba</td>\n",
       "      <td>¿Qué rango militar tenía Augusto Pinochet?</td>\n",
       "      <td>Capitán General del Ejército (r) de Chile</td>\n",
       "      <td>ex presidente y Capitán General del Ejército</td>\n",
       "      <td>Capitán General del Ejército (r) de Chile</td>\n",
       "      <td>ex presidente y Capitán General</td>\n",
       "      <td>mbert</td>\n",
       "      <td>wikinews</td>\n",
       "    </tr>\n",
       "    <tr>\n",
       "      <th>928</th>\n",
       "      <td>c7977ccc-ae32-40c7-a096-7f163873f20d</td>\n",
       "      <td>¿Cómo se terminan los conflictos?</td>\n",
       "      <td>fuerza de situar la justicia sobre todas las c...</td>\n",
       "      <td>fuerza de situar la justicia sobre todas las c...</td>\n",
       "      <td>fuerza de situar la justicia sobre todas las c...</td>\n",
       "      <td>fuerza de situar la justicia sobre todas las c...</td>\n",
       "      <td>mbert</td>\n",
       "      <td>ancora</td>\n",
       "    </tr>\n",
       "    <tr>\n",
       "      <th>930</th>\n",
       "      <td>ff6f9cdf-245c-4a1e-a999-24301045c637</td>\n",
       "      <td>¿De qué se podría acusar a Israel según revela...</td>\n",
       "      <td>utilización de bombas de uranio en el Líbano</td>\n",
       "      <td>bombas anti búnker en la población de Khiam al...</td>\n",
       "      <td>utilizó bombas anti búnker en la población de ...</td>\n",
       "      <td>utilización de bombas de uranio en el Líbano</td>\n",
       "      <td>beto</td>\n",
       "      <td>wikinews</td>\n",
       "    </tr>\n",
       "    <tr>\n",
       "      <th>936</th>\n",
       "      <td>77c9be4e-b200-4ec4-814a-02d5dd2e14f3</td>\n",
       "      <td>¿Cuándo finalizan las campañas de los que quie...</td>\n",
       "      <td>este miércoles (28</td>\n",
       "      <td>este miércoles (28</td>\n",
       "      <td>este miércoles</td>\n",
       "      <td>este miércoles</td>\n",
       "      <td>bne_base_new</td>\n",
       "      <td>wikinews</td>\n",
       "    </tr>\n",
       "    <tr>\n",
       "      <th>951</th>\n",
       "      <td>726eaa9b-b8b9-4646-8612-fe76cf008b08</td>\n",
       "      <td>¿Cuál es el próximo contrincante de Argentina?</td>\n",
       "      <td>Países Bajos</td>\n",
       "      <td>Países Bajos</td>\n",
       "      <td>Bélgica</td>\n",
       "      <td>Bélgica</td>\n",
       "      <td>bne_base_new</td>\n",
       "      <td>wikinews</td>\n",
       "    </tr>\n",
       "  </tbody>\n",
       "</table>\n",
       "<p>198 rows × 8 columns</p>\n",
       "</div>"
      ],
      "text/plain": [
       "                                       id  \\\n",
       "12   8fcfdad5-52ca-466a-9281-b7807a6cea04   \n",
       "15   715c4249-f08b-455d-9da1-e973c58d72c2   \n",
       "19   6b874d4b-1d54-44a3-8f47-ac15bdb0f17e   \n",
       "20   a9694543-cf58-4be1-9ca7-a025117b2911   \n",
       "31   f4395ed9-f089-4f39-b03d-09b660094f19   \n",
       "..                                    ...   \n",
       "926  1b9306c7-770e-4d7b-adef-eeed0c8d15ba   \n",
       "928  c7977ccc-ae32-40c7-a096-7f163873f20d   \n",
       "930  ff6f9cdf-245c-4a1e-a999-24301045c637   \n",
       "936  77c9be4e-b200-4ec4-814a-02d5dd2e14f3   \n",
       "951  726eaa9b-b8b9-4646-8612-fe76cf008b08   \n",
       "\n",
       "                                              question  \\\n",
       "12      ¿Contra qué protestaban los buques argentinos?   \n",
       "15         ¿Dónde se localizó el epicentro del seísmo?   \n",
       "19   ¿Qué porcentaje de la población mundial juega ...   \n",
       "20   ¿Cuál es la probabilidad que tienen las orcas ...   \n",
       "31   ¿Cuál fue la posición que adoptó el gobierno y...   \n",
       "..                                                 ...   \n",
       "926         ¿Qué rango militar tenía Augusto Pinochet?   \n",
       "928                  ¿Cómo se terminan los conflictos?   \n",
       "930  ¿De qué se podría acusar a Israel según revela...   \n",
       "936  ¿Cuándo finalizan las campañas de los que quie...   \n",
       "951     ¿Cuál es el próximo contrincante de Argentina?   \n",
       "\n",
       "                                                answer  \\\n",
       "12      limitaciones impuestas a la captura de merluza   \n",
       "15   50 km bajo tierra en la prefectura de Ibaraki,...   \n",
       "19                                                 4 %   \n",
       "20                                 extremadamente alta   \n",
       "31                                             neutral   \n",
       "..                                                 ...   \n",
       "926          Capitán General del Ejército (r) de Chile   \n",
       "928  fuerza de situar la justicia sobre todas las c...   \n",
       "930       utilización de bombas de uranio en el Líbano   \n",
       "936                                 este miércoles (28   \n",
       "951                                       Países Bajos   \n",
       "\n",
       "                                          bne_base_new  \\\n",
       "12   decisión del Gobierno argentino por las limita...   \n",
       "15   50 km bajo tierra en la prefectura de Ibaraki,...   \n",
       "19                                                 4 %   \n",
       "20                              37 y 50 % de las crías   \n",
       "31                                  se declaró neutral   \n",
       "..                                                 ...   \n",
       "926       ex presidente y Capitán General del Ejército   \n",
       "928  fuerza de situar la justicia sobre todas las c...   \n",
       "930  bombas anti búnker en la población de Khiam al...   \n",
       "936                                 este miércoles (28   \n",
       "951                                       Países Bajos   \n",
       "\n",
       "                                                 mbert  \\\n",
       "12      limitaciones impuestas a la captura de merluza   \n",
       "15                               prefectura de Ibaraki   \n",
       "19                                   alrededor del 4 %   \n",
       "20                                 extremadamente alta   \n",
       "31                                             neutral   \n",
       "..                                                 ...   \n",
       "926          Capitán General del Ejército (r) de Chile   \n",
       "928  fuerza de situar la justicia sobre todas las c...   \n",
       "930  utilizó bombas anti búnker en la población de ...   \n",
       "936                                     este miércoles   \n",
       "951                                            Bélgica   \n",
       "\n",
       "                                                  beto     model_dif  \\\n",
       "12   decisión del Gobierno argentino por las limita...         mbert   \n",
       "15                                     centro de Japón  bne_base_new   \n",
       "19                                   alrededor del 4 %  bne_base_new   \n",
       "20                                           37 y 50 %         mbert   \n",
       "31                                  se declaró neutral         mbert   \n",
       "..                                                 ...           ...   \n",
       "926                    ex presidente y Capitán General         mbert   \n",
       "928  fuerza de situar la justicia sobre todas las c...         mbert   \n",
       "930       utilización de bombas de uranio en el Líbano          beto   \n",
       "936                                     este miércoles  bne_base_new   \n",
       "951                                            Bélgica  bne_base_new   \n",
       "\n",
       "        source  \n",
       "12      ancora  \n",
       "15    wikinews  \n",
       "19   wikipedia  \n",
       "20   wikipedia  \n",
       "31   wikipedia  \n",
       "..         ...  \n",
       "926   wikinews  \n",
       "928     ancora  \n",
       "930   wikinews  \n",
       "936   wikinews  \n",
       "951   wikinews  \n",
       "\n",
       "[198 rows x 8 columns]"
      ]
     },
     "execution_count": 35,
     "metadata": {},
     "output_type": "execute_result"
    }
   ],
   "source": [
    "df_1h"
   ]
  },
  {
   "cell_type": "code",
   "execution_count": 36,
   "metadata": {
    "jupyter": {
     "source_hidden": true
    },
    "tags": []
   },
   "outputs": [
    {
     "data": {
      "text/plain": [
       "bne_base_new    0.378788\n",
       "beto            0.333333\n",
       "mbert           0.287879\n",
       "Name: model_dif, dtype: float64"
      ]
     },
     "execution_count": 36,
     "metadata": {},
     "output_type": "execute_result"
    }
   ],
   "source": [
    "df_1h[\"model_dif\"].value_counts(normalize=True)"
   ]
  },
  {
   "cell_type": "code",
   "execution_count": 37,
   "metadata": {
    "jupyter": {
     "source_hidden": true
    },
    "tags": []
   },
   "outputs": [
    {
     "data": {
      "text/plain": [
       "wikipedia    0.464646\n",
       "wikinews     0.287879\n",
       "ancora       0.247475\n",
       "Name: source, dtype: float64"
      ]
     },
     "execution_count": 37,
     "metadata": {},
     "output_type": "execute_result"
    }
   ],
   "source": [
    "df_1h[\"source\"].value_counts(normalize=True)"
   ]
  },
  {
   "cell_type": "code",
   "execution_count": null,
   "metadata": {},
   "outputs": [],
   "source": []
  }
 ],
 "metadata": {
  "kernelspec": {
   "display_name": "Python 3",
   "language": "python",
   "name": "python3"
  },
  "language_info": {
   "codemirror_mode": {
    "name": "ipython",
    "version": 3
   },
   "file_extension": ".py",
   "mimetype": "text/x-python",
   "name": "python",
   "nbconvert_exporter": "python",
   "pygments_lexer": "ipython3",
   "version": "3.6.12"
  }
 },
 "nbformat": 4,
 "nbformat_minor": 4
}
